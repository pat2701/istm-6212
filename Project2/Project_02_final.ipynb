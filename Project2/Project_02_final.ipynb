{
 "cells": [
  {
   "cell_type": "markdown",
   "metadata": {},
   "source": [
    "# Project 2: Boston Crime"
   ]
  },
  {
   "cell_type": "markdown",
   "metadata": {},
   "source": [
    "Chris Bunker and Pat Steeves\n",
    "\n",
    "Our goal with this project is to see if there is any correlation between sports and crime. We will use Boston, a city with a lot of recent sports success to see if times around championships or major losses/wins affect the crimes in certain areas in both quantity and type. "
   ]
  },
  {
   "cell_type": "markdown",
   "metadata": {},
   "source": [
    "## Problem 1: Examining the Data"
   ]
  },
  {
   "cell_type": "code",
   "execution_count": 1,
   "metadata": {
    "collapsed": false
   },
   "outputs": [
    {
     "name": "stdout",
     "output_type": "stream",
     "text": [
      "--2016-11-11 16:19:34--  https://github.com/chrisbunker/istm-6212/blob/56f1ce54ba16316ee47f4e16bcbff0637cf4ad9c/boston_crime.zip?raw=true\n",
      "Resolving github.com (github.com)... 192.30.253.112, 192.30.253.113\n",
      "Connecting to github.com (github.com)|192.30.253.112|:443... connected.\n",
      "HTTP request sent, awaiting response... 302 Found\n",
      "Location: https://github.com/chrisbunker/istm-6212/raw/56f1ce54ba16316ee47f4e16bcbff0637cf4ad9c/boston_crime.zip [following]\n",
      "--2016-11-11 16:19:34--  https://github.com/chrisbunker/istm-6212/raw/56f1ce54ba16316ee47f4e16bcbff0637cf4ad9c/boston_crime.zip\n",
      "Reusing existing connection to github.com:443.\n",
      "HTTP request sent, awaiting response... 302 Found\n",
      "Location: https://raw.githubusercontent.com/chrisbunker/istm-6212/56f1ce54ba16316ee47f4e16bcbff0637cf4ad9c/boston_crime.zip [following]\n",
      "--2016-11-11 16:19:34--  https://raw.githubusercontent.com/chrisbunker/istm-6212/56f1ce54ba16316ee47f4e16bcbff0637cf4ad9c/boston_crime.zip\n",
      "Resolving raw.githubusercontent.com (raw.githubusercontent.com)... 151.101.32.133\n",
      "Connecting to raw.githubusercontent.com (raw.githubusercontent.com)|151.101.32.133|:443... connected.\n",
      "HTTP request sent, awaiting response... 200 OK\n",
      "Length: 10791718 (10M) [application/octet-stream]\n",
      "Saving to: ‘boston_crime.zip?raw=true’\n",
      "\n",
      "boston_crime.zip?ra 100%[=====================>]  10.29M  62.5MB/s   in 0.2s   \n",
      "\n",
      "2016-11-11 16:19:34 (62.5 MB/s) - ‘boston_crime.zip?raw=true’ saved [10791718/10791718]\n",
      "\n"
     ]
    }
   ],
   "source": [
    "!wget https://github.com/chrisbunker/istm-6212/blob/56f1ce54ba16316ee47f4e16bcbff0637cf4ad9c/boston_crime.zip?raw=true"
   ]
  },
  {
   "cell_type": "code",
   "execution_count": 2,
   "metadata": {
    "collapsed": false
   },
   "outputs": [
    {
     "name": "stdout",
     "output_type": "stream",
     "text": [
      "Archive:  boston_crime.zip?raw=true\n",
      "  inflating: boston_crime.csv        \n"
     ]
    }
   ],
   "source": [
    "!unzip boston_crime.zip?raw=true"
   ]
  },
  {
   "cell_type": "markdown",
   "metadata": {},
   "source": [
    "Now that our file on Boston Crimes from 7/8/2012 to 8/10/2015 and has been unzipped, lets see if it was done successfully so we can start to examine the csv file."
   ]
  },
  {
   "cell_type": "code",
   "execution_count": 3,
   "metadata": {
    "collapsed": false
   },
   "outputs": [
    {
     "name": "stdout",
     "output_type": "stream",
     "text": [
      "   6101 BE\r\n",
      "   6406 IVPREM\r\n",
      "   6432 IVMV\r\n",
      "   8376 HITRUN\r\n",
      "  11395 LARCEN\r\n",
      "  12302 MVA\r\n",
      "  14149 IVPER\r\n",
      "  14204 IVPER \r\n",
      "  15932 ARREST\r\n",
      "  15999 LARCRT\r\n"
     ]
    }
   ],
   "source": [
    "!csvcut -c2 boston_crime.csv | sort | uniq -c | sort -n | tail -10 "
   ]
  },
  {
   "cell_type": "markdown",
   "metadata": {},
   "source": [
    "These are the most occuring natures of a crime that occurred in Boston from 2012 to 2015."
   ]
  },
  {
   "cell_type": "code",
   "execution_count": 4,
   "metadata": {
    "collapsed": false
   },
   "outputs": [
    {
     "name": "stdout",
     "output_type": "stream",
     "text": [
      "   8742 FRAUD\r\n",
      "  12042 DRUG CHARGES\r\n",
      "  12742 LARCENY FROM MOTOR VEHICLE\r\n",
      "  12937 InvPer\r\n",
      "  13339 VANDALISM\r\n",
      "  13832 MVAcc\r\n",
      "  17128 MedAssist\r\n",
      "  17697 SIMPLE ASSAULT\r\n",
      "  24443 OTHER LARCENY\r\n",
      "  27363 VAL\r\n"
     ]
    }
   ],
   "source": [
    "!csvcut -c3 boston_crime.csv | sort | uniq -c | sort -n | tail -10 "
   ]
  },
  {
   "cell_type": "markdown",
   "metadata": {},
   "source": [
    "These are the most occurring incident types that occurred in Boston from 2012 to 2015."
   ]
  },
  {
   "cell_type": "code",
   "execution_count": 5,
   "metadata": {
    "collapsed": false
   },
   "outputs": [
    {
     "name": "stdout",
     "output_type": "stream",
     "text": [
      "  1. NatureCode\n",
      "\t<class 'str'>\n",
      "\tNulls: True\n",
      "\tUnique values: 280\n",
      "\t5 most frequent values:\n",
      "\t\tIVPER:\t28353\n",
      "\t\tLARCRT:\t15999\n",
      "\t\tARREST:\t15932\n",
      "\t\tMVA:\t15091\n",
      "\t\tLARCEN:\t11395\n",
      "\tMax length: 6\n",
      "  2. INCIDENT_TYPE_DESCRIPTION\n",
      "\t<class 'str'>\n",
      "\tNulls: False\n",
      "\tUnique values: 127\n",
      "\t5 most frequent values:\n",
      "\t\tVAL:\t27363\n",
      "\t\tOTHER LARCENY:\t24443\n",
      "\t\tSIMPLE ASSAULT:\t17697\n",
      "\t\tMedAssist:\t17128\n",
      "\t\tMVAcc:\t13832\n",
      "\tMax length: 32\n",
      "\n",
      "Row count: 268056\n"
     ]
    }
   ],
   "source": [
    "!csvcut -c2,3 boston_crime.csv | csvstat"
   ]
  },
  {
   "cell_type": "markdown",
   "metadata": {},
   "source": [
    "### Column Definitions "
   ]
  },
  {
   "cell_type": "code",
   "execution_count": 6,
   "metadata": {
    "collapsed": false
   },
   "outputs": [
    {
     "name": "stdout",
     "output_type": "stream",
     "text": [
      "  1: COMPNOS\r\n",
      "  2: NatureCode\r\n",
      "  3: INCIDENT_TYPE_DESCRIPTION\r\n",
      "  4: MAIN_CRIMECODE\r\n",
      "  5: REPTDISTRICT\r\n",
      "  6: REPORTINGAREA\r\n",
      "  7: FROMDATE\r\n",
      "  8: WEAPONTYPE\r\n",
      "  9: Shooting\r\n",
      " 10: DOMESTIC\r\n",
      " 11: SHIFT\r\n",
      " 12: Year\r\n",
      " 13: Month\r\n",
      " 14: DAY_WEEK\r\n",
      " 15: UCRPART\r\n",
      " 16: X\r\n",
      " 17: Y\r\n",
      " 18: STREETNAME\r\n",
      " 19: XSTREETNAME\r\n",
      " 20: Location\r\n"
     ]
    }
   ],
   "source": [
    "!csvcut -n boston_crime.csv"
   ]
  },
  {
   "cell_type": "markdown",
   "metadata": {},
   "source": [
    "There are 20 different columns provided in the csv file for Boston Crimes. \n",
    "1. COMPNOS is used a primary key uniqiely identifying each of the records of an incident for easy reference. \n",
    "2. NatureCode is a reference code to the incident type\n",
    "3. INCIDENT_TYPE_DESCRIPTION is the type of incident that occurred\n",
    "4. MAIN_CRIMECODE is the code to the incident type\n",
    "5. REPTDISTRICT is the district where the crime was reported\n",
    "6. REPORTINGAREA is the area where the crime occurred (these are not area codes)\n",
    "7. FROMDATE is the date of the reports\n",
    "8. WEAPONTYPE is the type of weapon, if one was used\n",
    "9. Shooting is a boolean function for if it was a shooting\n",
    "10. DOMESTIC is a boolean function for if it was a domestic crime\n",
    "11. SHIFT is the work shift in which the crime was reported\n",
    "12. Year\n",
    "13. Month\n",
    "14. DAY_WEEK \n",
    "15. UCRPART is the type of crime that occurred (TYPE 1, 2, and 3) from highest severity to lowest\n",
    "16. X ??\n",
    "17. Y ?? \n",
    "18. STREETNAME\n",
    "19. XSTREETNAME is the cross street\n",
    "20. Location is the longitude and latitutde "
   ]
  },
  {
   "cell_type": "markdown",
   "metadata": {},
   "source": [
    "### Useful Columns"
   ]
  },
  {
   "cell_type": "code",
   "execution_count": 7,
   "metadata": {
    "collapsed": false
   },
   "outputs": [
    {
     "name": "stdout",
     "output_type": "stream",
     "text": [
      "  1. COMPNOS\n",
      "\t<class 'int'>\n",
      "\tNulls: True\n",
      "\tMin: 110523814\n",
      "\tMax: 152052879\n",
      "\tSum: 34718943844554\n",
      "\tMean: 135728502.8540366\n",
      "\tMedian: 130807210\n",
      "\tStandard Deviation: 9886105.346158931\n",
      "\tUnique values: 255796\n",
      "\t5 most frequent values:\n",
      "\t\t142052550:\t2\n",
      "\t\t130614074:\t1\n",
      "\t\t130021058:\t1\n",
      "\t\t120473730:\t1\n",
      "\t\t142022687:\t1\n",
      "  2. NatureCode\n",
      "\t<class 'str'>\n",
      "\tNulls: True\n",
      "\tUnique values: 280\n",
      "\t5 most frequent values:\n",
      "\t\tIVPER:\t28353\n",
      "\t\tLARCRT:\t15999\n",
      "\t\tARREST:\t15932\n",
      "\t\tMVA:\t15091\n",
      "\t\tLARCEN:\t11395\n",
      "\tMax length: 6\n",
      "  3. INCIDENT_TYPE_DESCRIPTION\n",
      "\t<class 'str'>\n",
      "\tNulls: False\n",
      "\tUnique values: 127\n",
      "\t5 most frequent values:\n",
      "\t\tVAL:\t27363\n",
      "\t\tOTHER LARCENY:\t24443\n",
      "\t\tSIMPLE ASSAULT:\t17697\n",
      "\t\tMedAssist:\t17128\n",
      "\t\tMVAcc:\t13832\n",
      "\tMax length: 32\n",
      "  4. MAIN_CRIMECODE\n",
      "\t<class 'str'>\n",
      "\tNulls: False\n",
      "\tUnique values: 77\n",
      "\t5 most frequent values:\n",
      "\t\tVAL:\t27591\n",
      "\t\t06xx:\t25731\n",
      "\t\t08xx:\t18334\n",
      "\t\tMedAssist:\t17837\n",
      "\t\tMVAcc:\t15231\n",
      "\tMax length: 10\n",
      "  5. REPTDISTRICT\n",
      "\t<class 'str'>\n",
      "\tNulls: True\n",
      "\tUnique values: 13\n",
      "\t5 most frequent values:\n",
      "\t\tB2:\t40640\n",
      "\t\tD4:\t37908\n",
      "\t\tC11:\t34609\n",
      "\t\tA1:\t29653\n",
      "\t\tB3:\t24812\n",
      "\tMax length: 4\n",
      "  6. REPORTINGAREA\n",
      "\t<class 'int'>\n",
      "\tNulls: False\n",
      "\tMin: 0\n",
      "\tMax: 962\n",
      "\tSum: 67119782\n",
      "\tMean: 250.39462649595606\n",
      "\tMedian: 167.0\n",
      "\tStandard Deviation: 268.13294207864334\n",
      "\tUnique values: 886\n",
      "\t5 most frequent values:\n",
      "\t\t0:\t91211\n",
      "\t\t282:\t1665\n",
      "\t\t72:\t1223\n",
      "\t\t355:\t1219\n",
      "\t\t111:\t1150\n",
      "  7. FROMDATE\n",
      "\t<class 'datetime.datetime'>\n",
      "\tNulls: False\n",
      "\tMin: 2012-07-08 06:00:00\n",
      "\tMax: 2015-08-10 05:20:00\n",
      "\tUnique values: 172958\n",
      "\t5 most frequent values:\n",
      "\t\t2015-07-23 00:00:00:\t217\n",
      "\t\t2015-06-18 00:00:00:\t213\n",
      "\t\t2015-07-14 00:00:00:\t205\n",
      "\t\t2015-07-21 00:00:00:\t204\n",
      "\t\t2015-07-24 00:00:00:\t195\n",
      "  8. WEAPONTYPE\n",
      "\t<class 'str'>\n",
      "\tNulls: True\n",
      "\tUnique values: 7\n",
      "\t5 most frequent values:\n",
      "\t\tUnarmed:\t194932\n",
      "\t\tOther:\t52102\n",
      "\t\tFirearm:\t5299\n",
      "\t\tKnife:\t3867\n",
      "\t\tPersonal Weapon (hand  foot  etc.):\t282\n",
      "\tMax length: 34\n",
      "  9. Shooting\n",
      "\t<class 'bool'>\n",
      "\tNulls: False\n",
      "\tUnique values: 2\n",
      "\t5 most frequent values:\n",
      "\t\tFalse:\t267359\n",
      "\t\tTrue:\t697\n",
      " 10. DOMESTIC\n",
      "\t<class 'bool'>\n",
      "\tNulls: False\n",
      "\tUnique values: 1\n",
      "\t5 most frequent values:\n",
      "\t\tFalse:\t268056\n",
      " 11. UCRPART\n",
      "\t<class 'str'>\n",
      "\tNulls: False\n",
      "\tValues: Part One, Part three, Part Two, Other, Part Three\n",
      " 12. STREETNAME\n",
      "\t<class 'str'>\n",
      "\tNulls: True\n",
      "\tUnique values: 4484\n",
      "\t5 most frequent values:\n",
      "\t\tWASHINGTON ST:\t14552\n",
      "\t\tBOYLSTON ST:\t6572\n",
      "\t\tBLUE HILL AV:\t6172\n",
      "\t\tDORCHESTER AV:\t4549\n",
      "\t\tTREMONT ST:\t4447\n",
      "\tMax length: 34\n",
      "\n",
      "Row count: 268056\n"
     ]
    }
   ],
   "source": [
    "!csvcut -c1,2,3,4,5,6,7,8,9,10,15,18 boston_crime.csv | csvstat"
   ]
  },
  {
   "cell_type": "markdown",
   "metadata": {},
   "source": [
    "From the above csvstat of the columns we find important we can see the class types, max values, etc. for for the table we will create in the next problem. We can also see which columns allow null values."
   ]
  },
  {
   "cell_type": "markdown",
   "metadata": {},
   "source": [
    "### Opportunities, Challenges, and Questions"
   ]
  },
  {
   "cell_type": "markdown",
   "metadata": {
    "collapsed": true
   },
   "source": [
    "From the data we have pulled from the csv file we believe we can successfully see if there is a correlation between sports and crime in Boston. We can cross reference the dates of sports games with dates of crimes and see which crimes have a higher chance of happening after sports wins vs. losses.\n",
    "\n",
    "Some of the major challeneges we will have to deal with are:\n",
    "   1. Data errors: some of the data seems to have been entered improperly with certain codes being placed in two rows. We may have to deal with this when we create out star schema.\n",
    "   2. Incident names: we will need to find all of the incident codes and what they mean in order to fully understand the data.\n",
    "   3. Making sure there is some proof of causation as well as correlation"
   ]
  },
  {
   "cell_type": "markdown",
   "metadata": {},
   "source": [
    "## Problem 2: Defining and Exlporing a Database Model"
   ]
  },
  {
   "cell_type": "markdown",
   "metadata": {},
   "source": [
    "Restart postgresql"
   ]
  },
  {
   "cell_type": "code",
   "execution_count": 8,
   "metadata": {
    "collapsed": false
   },
   "outputs": [
    {
     "name": "stdout",
     "output_type": "stream",
     "text": [
      "[sudo] password for jovyan: Restarting PostgreSQL 9.5 database server: main.\n"
     ]
    }
   ],
   "source": [
    "!echo 'redspot' | sudo -S service postgresql restart"
   ]
  },
  {
   "cell_type": "markdown",
   "metadata": {},
   "source": [
    "Create database"
   ]
  },
  {
   "cell_type": "code",
   "execution_count": 9,
   "metadata": {
    "collapsed": false
   },
   "outputs": [],
   "source": [
    "!createdb -U dbuser ex4"
   ]
  },
  {
   "cell_type": "markdown",
   "metadata": {},
   "source": [
    "Connect to database"
   ]
  },
  {
   "cell_type": "code",
   "execution_count": 10,
   "metadata": {
    "collapsed": false
   },
   "outputs": [
    {
     "name": "stderr",
     "output_type": "stream",
     "text": [
      "/opt/conda/lib/python3.5/site-packages/IPython/config.py:13: ShimWarning: The `IPython.config` package has been deprecated. You should import from traitlets.config instead.\n",
      "  \"You should import from traitlets.config instead.\", ShimWarning)\n",
      "/opt/conda/lib/python3.5/site-packages/IPython/utils/traitlets.py:5: UserWarning: IPython.utils.traitlets has moved to a top-level traitlets package.\n",
      "  warn(\"IPython.utils.traitlets has moved to a top-level traitlets package.\")\n"
     ]
    }
   ],
   "source": [
    "%load_ext sql"
   ]
  },
  {
   "cell_type": "code",
   "execution_count": 11,
   "metadata": {
    "collapsed": false
   },
   "outputs": [
    {
     "data": {
      "text/plain": [
       "'Connected: dbuser@ex4'"
      ]
     },
     "execution_count": 11,
     "metadata": {},
     "output_type": "execute_result"
    }
   ],
   "source": [
    "%sql postgresql://dbuser@localhost:5432/ex4"
   ]
  },
  {
   "cell_type": "markdown",
   "metadata": {},
   "source": [
    "Create first table. The datatypes are selected from the csvstat output in part 1"
   ]
  },
  {
   "cell_type": "code",
   "execution_count": 12,
   "metadata": {
    "collapsed": false
   },
   "outputs": [
    {
     "name": "stdout",
     "output_type": "stream",
     "text": [
      "Done.\n",
      "Done.\n"
     ]
    },
    {
     "data": {
      "text/plain": [
       "[]"
      ]
     },
     "execution_count": 12,
     "metadata": {},
     "output_type": "execute_result"
    }
   ],
   "source": [
    "%%sql\n",
    "DROP TABLE IF EXISTS crime;\n",
    "CREATE TABLE crime (\n",
    "    idnum INTEGER,\n",
    "    nature_code VARCHAR(16),\n",
    "    description VARCHAR(32),\n",
    "    crime_code VARCHAR(32),\n",
    "    district_code VARCHAR(4),\n",
    "    report_area INTEGER,\n",
    "    date_time TIMESTAMP,\n",
    "    weapon VARCHAR(64),\n",
    "    shooting BOOLEAN,\n",
    "    domestic BOOLEAN,\n",
    "    shift VARCHAR(6),\n",
    "    year INTEGER,\n",
    "    month INTEGER,\n",
    "    day VARCHAR(10),\n",
    "    severity VARCHAR(10),\n",
    "    X NUMERIC,\n",
    "    Y NUMERIC,\n",
    "    street VARCHAR(64),\n",
    "    cross_street VARCHAR(64),\n",
    "    location VARCHAR(64)\n",
    ");"
   ]
  },
  {
   "cell_type": "code",
   "execution_count": 13,
   "metadata": {
    "collapsed": false
   },
   "outputs": [
    {
     "name": "stdout",
     "output_type": "stream",
     "text": [
      "/home/jovyan/work\r\n"
     ]
    }
   ],
   "source": [
    "!pwd"
   ]
  },
  {
   "cell_type": "code",
   "execution_count": 14,
   "metadata": {
    "collapsed": false
   },
   "outputs": [
    {
     "name": "stdout",
     "output_type": "stream",
     "text": [
      "268056 rows affected.\n"
     ]
    },
    {
     "data": {
      "text/plain": [
       "[]"
      ]
     },
     "execution_count": 14,
     "metadata": {},
     "output_type": "execute_result"
    }
   ],
   "source": [
    "%%sql\n",
    "COPY crime FROM '/home/jovyan/work/boston_crime.csv'\n",
    "CSV\n",
    "HEADER\n",
    "DELIMITER ',';"
   ]
  },
  {
   "cell_type": "markdown",
   "metadata": {},
   "source": [
    "Ensure that all column types are correct and that all rows were loaded"
   ]
  },
  {
   "cell_type": "code",
   "execution_count": 15,
   "metadata": {
    "collapsed": false
   },
   "outputs": [
    {
     "name": "stdout",
     "output_type": "stream",
     "text": [
      "Done.\n"
     ]
    },
    {
     "data": {
      "text/plain": [
       "[]"
      ]
     },
     "execution_count": 15,
     "metadata": {},
     "output_type": "execute_result"
    }
   ],
   "source": [
    "%%sql\n",
    "ALTER TABLE crime\n",
    "DROP COLUMN idnum;"
   ]
  },
  {
   "cell_type": "code",
   "execution_count": 16,
   "metadata": {
    "collapsed": false
   },
   "outputs": [
    {
     "name": "stdout",
     "output_type": "stream",
     "text": [
      "Done.\n"
     ]
    },
    {
     "data": {
      "text/plain": [
       "[]"
      ]
     },
     "execution_count": 16,
     "metadata": {},
     "output_type": "execute_result"
    }
   ],
   "source": [
    "%%sql\n",
    "ALTER TABLE crime\n",
    "ADD COLUMN idnum BIGSERIAL;"
   ]
  },
  {
   "cell_type": "code",
   "execution_count": 17,
   "metadata": {
    "collapsed": false
   },
   "outputs": [
    {
     "name": "stdout",
     "output_type": "stream",
     "text": [
      "1 rows affected.\n"
     ]
    },
    {
     "data": {
      "text/html": [
       "<table>\n",
       "    <tr>\n",
       "        <th>count</th>\n",
       "    </tr>\n",
       "    <tr>\n",
       "        <td>268056</td>\n",
       "    </tr>\n",
       "</table>"
      ],
      "text/plain": [
       "[(268056,)]"
      ]
     },
     "execution_count": 17,
     "metadata": {},
     "output_type": "execute_result"
    }
   ],
   "source": [
    "%%sql\n",
    "SELECT COUNT(*) FROM crime;"
   ]
  },
  {
   "cell_type": "markdown",
   "metadata": {},
   "source": [
    "Correct capitalization error in column severity"
   ]
  },
  {
   "cell_type": "code",
   "execution_count": 18,
   "metadata": {
    "collapsed": false
   },
   "outputs": [
    {
     "name": "stdout",
     "output_type": "stream",
     "text": [
      "5 rows affected.\n"
     ]
    },
    {
     "data": {
      "text/html": [
       "<table>\n",
       "    <tr>\n",
       "        <th>severity</th>\n",
       "    </tr>\n",
       "    <tr>\n",
       "        <td>Part One</td>\n",
       "    </tr>\n",
       "    <tr>\n",
       "        <td>Part three</td>\n",
       "    </tr>\n",
       "    <tr>\n",
       "        <td>Part Three</td>\n",
       "    </tr>\n",
       "    <tr>\n",
       "        <td>Other</td>\n",
       "    </tr>\n",
       "    <tr>\n",
       "        <td>Part Two</td>\n",
       "    </tr>\n",
       "</table>"
      ],
      "text/plain": [
       "[('Part One',), ('Part three',), ('Part Three',), ('Other',), ('Part Two',)]"
      ]
     },
     "execution_count": 18,
     "metadata": {},
     "output_type": "execute_result"
    }
   ],
   "source": [
    "%%sql \n",
    "SELECT DISTINCT severity FROM crime;"
   ]
  },
  {
   "cell_type": "code",
   "execution_count": 19,
   "metadata": {
    "collapsed": false
   },
   "outputs": [
    {
     "name": "stdout",
     "output_type": "stream",
     "text": [
      "55482 rows affected.\n"
     ]
    },
    {
     "data": {
      "text/plain": [
       "[]"
      ]
     },
     "execution_count": 19,
     "metadata": {},
     "output_type": "execute_result"
    }
   ],
   "source": [
    "%%sql\n",
    "UPDATE crime SET severity = 'Part Three' WHERE severity = 'Part three'"
   ]
  },
  {
   "cell_type": "code",
   "execution_count": 20,
   "metadata": {
    "collapsed": false
   },
   "outputs": [
    {
     "name": "stdout",
     "output_type": "stream",
     "text": [
      "4 rows affected.\n"
     ]
    },
    {
     "data": {
      "text/html": [
       "<table>\n",
       "    <tr>\n",
       "        <th>severity</th>\n",
       "    </tr>\n",
       "    <tr>\n",
       "        <td>Part One</td>\n",
       "    </tr>\n",
       "    <tr>\n",
       "        <td>Part Three</td>\n",
       "    </tr>\n",
       "    <tr>\n",
       "        <td>Other</td>\n",
       "    </tr>\n",
       "    <tr>\n",
       "        <td>Part Two</td>\n",
       "    </tr>\n",
       "</table>"
      ],
      "text/plain": [
       "[('Part One',), ('Part Three',), ('Other',), ('Part Two',)]"
      ]
     },
     "execution_count": 20,
     "metadata": {},
     "output_type": "execute_result"
    }
   ],
   "source": [
    "%%sql \n",
    "SELECT DISTINCT severity FROM crime;"
   ]
  },
  {
   "cell_type": "code",
   "execution_count": 21,
   "metadata": {
    "collapsed": false
   },
   "outputs": [
    {
     "name": "stdout",
     "output_type": "stream",
     "text": [
      "4 rows affected.\n"
     ]
    },
    {
     "data": {
      "text/html": [
       "<table>\n",
       "    <tr>\n",
       "        <th>year</th>\n",
       "        <th>count</th>\n",
       "    </tr>\n",
       "    <tr>\n",
       "        <td>2014</td>\n",
       "        <td>88058</td>\n",
       "    </tr>\n",
       "    <tr>\n",
       "        <td>2013</td>\n",
       "        <td>87052</td>\n",
       "    </tr>\n",
       "    <tr>\n",
       "        <td>2015</td>\n",
       "        <td>49760</td>\n",
       "    </tr>\n",
       "    <tr>\n",
       "        <td>2012</td>\n",
       "        <td>43186</td>\n",
       "    </tr>\n",
       "</table>"
      ],
      "text/plain": [
       "[(2014, 88058), (2013, 87052), (2015, 49760), (2012, 43186)]"
      ]
     },
     "execution_count": 21,
     "metadata": {},
     "output_type": "execute_result"
    }
   ],
   "source": [
    "%%sql\n",
    "SELECT year, COUNT(*) AS count FROM crime\n",
    "GROUP BY year\n",
    "ORDER BY count DESC;"
   ]
  },
  {
   "cell_type": "markdown",
   "metadata": {},
   "source": [
    "We can see that the number of crimes committed in 2013 and 2014 were similar. Since our data only spans about half of 2012 and half of 2015, the numbers appear to be substantially less in 2012 and 2015."
   ]
  },
  {
   "cell_type": "code",
   "execution_count": 22,
   "metadata": {
    "collapsed": false
   },
   "outputs": [
    {
     "name": "stdout",
     "output_type": "stream",
     "text": [
      "12 rows affected.\n"
     ]
    },
    {
     "data": {
      "text/html": [
       "<table>\n",
       "    <tr>\n",
       "        <th>month</th>\n",
       "        <th>count</th>\n",
       "    </tr>\n",
       "    <tr>\n",
       "        <td>7</td>\n",
       "        <td>29113</td>\n",
       "    </tr>\n",
       "    <tr>\n",
       "        <td>8</td>\n",
       "        <td>25525</td>\n",
       "    </tr>\n",
       "    <tr>\n",
       "        <td>5</td>\n",
       "        <td>23294</td>\n",
       "    </tr>\n",
       "    <tr>\n",
       "        <td>9</td>\n",
       "        <td>23159</td>\n",
       "    </tr>\n",
       "    <tr>\n",
       "        <td>10</td>\n",
       "        <td>22836</td>\n",
       "    </tr>\n",
       "    <tr>\n",
       "        <td>6</td>\n",
       "        <td>22132</td>\n",
       "    </tr>\n",
       "    <tr>\n",
       "        <td>3</td>\n",
       "        <td>21295</td>\n",
       "    </tr>\n",
       "    <tr>\n",
       "        <td>4</td>\n",
       "        <td>20930</td>\n",
       "    </tr>\n",
       "    <tr>\n",
       "        <td>1</td>\n",
       "        <td>20697</td>\n",
       "    </tr>\n",
       "    <tr>\n",
       "        <td>11</td>\n",
       "        <td>20379</td>\n",
       "    </tr>\n",
       "    <tr>\n",
       "        <td>12</td>\n",
       "        <td>20235</td>\n",
       "    </tr>\n",
       "    <tr>\n",
       "        <td>2</td>\n",
       "        <td>18461</td>\n",
       "    </tr>\n",
       "</table>"
      ],
      "text/plain": [
       "[(7, 29113),\n",
       " (8, 25525),\n",
       " (5, 23294),\n",
       " (9, 23159),\n",
       " (10, 22836),\n",
       " (6, 22132),\n",
       " (3, 21295),\n",
       " (4, 20930),\n",
       " (1, 20697),\n",
       " (11, 20379),\n",
       " (12, 20235),\n",
       " (2, 18461)]"
      ]
     },
     "execution_count": 22,
     "metadata": {},
     "output_type": "execute_result"
    }
   ],
   "source": [
    "%%sql\n",
    "SELECT month, COUNT(*) AS count FROM crime\n",
    "GROUP BY month\n",
    "ORDER BY count DESC;"
   ]
  },
  {
   "cell_type": "markdown",
   "metadata": {},
   "source": [
    "More crime seems to be committed during the warmer months of the year"
   ]
  },
  {
   "cell_type": "markdown",
   "metadata": {},
   "source": [
    "## Problem 3: Defining a Star Schema"
   ]
  },
  {
   "cell_type": "markdown",
   "metadata": {},
   "source": [
    "Please see Visio file for star schema diagram. This diagram displays the fact table and three dimensional tables that will be created below."
   ]
  },
  {
   "cell_type": "markdown",
   "metadata": {},
   "source": [
    "### Star Schema Tables"
   ]
  },
  {
   "cell_type": "markdown",
   "metadata": {},
   "source": [
    "Create first version of fact table by simply copying granular data table"
   ]
  },
  {
   "cell_type": "code",
   "execution_count": 23,
   "metadata": {
    "collapsed": false
   },
   "outputs": [
    {
     "name": "stdout",
     "output_type": "stream",
     "text": [
      "Done.\n",
      "268056 rows affected.\n"
     ]
    },
    {
     "data": {
      "text/plain": [
       "[]"
      ]
     },
     "execution_count": 23,
     "metadata": {},
     "output_type": "execute_result"
    }
   ],
   "source": [
    "%%sql\n",
    "DROP TABLE IF EXISTS crimes_fact;\n",
    "CREATE TABLE crimes_fact AS\n",
    "    (SELECT * FROM crime);"
   ]
  },
  {
   "cell_type": "markdown",
   "metadata": {},
   "source": [
    "Create time dimension table using select attributes"
   ]
  },
  {
   "cell_type": "code",
   "execution_count": 24,
   "metadata": {
    "collapsed": false
   },
   "outputs": [
    {
     "name": "stdout",
     "output_type": "stream",
     "text": [
      "Done.\n",
      "172958 rows affected.\n"
     ]
    },
    {
     "data": {
      "text/plain": [
       "[]"
      ]
     },
     "execution_count": 24,
     "metadata": {},
     "output_type": "execute_result"
    }
   ],
   "source": [
    "%%sql\n",
    "DROP TABLE IF EXISTS time_dimension;\n",
    "CREATE TABLE time_dimension AS\n",
    "    SELECT DISTINCT\n",
    "    date_time,\n",
    "    shift,\n",
    "    year,\n",
    "    month,\n",
    "    day\n",
    "FROM crime;"
   ]
  },
  {
   "cell_type": "markdown",
   "metadata": {},
   "source": [
    "Since the time stamp is unique for all values, set it as primary key"
   ]
  },
  {
   "cell_type": "code",
   "execution_count": 25,
   "metadata": {
    "collapsed": false
   },
   "outputs": [
    {
     "name": "stdout",
     "output_type": "stream",
     "text": [
      "Done.\n"
     ]
    },
    {
     "data": {
      "text/plain": [
       "[]"
      ]
     },
     "execution_count": 25,
     "metadata": {},
     "output_type": "execute_result"
    }
   ],
   "source": [
    "%%sql\n",
    "ALTER TABLE time_dimension ADD PRIMARY KEY (date_time);"
   ]
  },
  {
   "cell_type": "markdown",
   "metadata": {},
   "source": [
    "Create foreign key in facts table"
   ]
  },
  {
   "cell_type": "code",
   "execution_count": 26,
   "metadata": {
    "collapsed": false
   },
   "outputs": [
    {
     "name": "stdout",
     "output_type": "stream",
     "text": [
      "Done.\n"
     ]
    },
    {
     "data": {
      "text/plain": [
       "[]"
      ]
     },
     "execution_count": 26,
     "metadata": {},
     "output_type": "execute_result"
    }
   ],
   "source": [
    "%%sql\n",
    "ALTER TABLE crimes_fact\n",
    "ADD FOREIGN KEY (date_time) REFERENCES time_dimension(date_time);"
   ]
  },
  {
   "cell_type": "markdown",
   "metadata": {},
   "source": [
    "Create location dimension table using 3 select dimensions"
   ]
  },
  {
   "cell_type": "code",
   "execution_count": 27,
   "metadata": {
    "collapsed": false
   },
   "outputs": [
    {
     "name": "stdout",
     "output_type": "stream",
     "text": [
      "Done.\n",
      "20029 rows affected.\n"
     ]
    },
    {
     "data": {
      "text/plain": [
       "[]"
      ]
     },
     "execution_count": 27,
     "metadata": {},
     "output_type": "execute_result"
    }
   ],
   "source": [
    "%%sql\n",
    "DROP TABLE IF EXISTS location_dimension;\n",
    "CREATE TABLE location_dimension AS\n",
    "    SELECT DISTINCT\n",
    "    district_code,\n",
    "    report_area,\n",
    "    street\n",
    "FROM crime;"
   ]
  },
  {
   "cell_type": "markdown",
   "metadata": {},
   "source": [
    "Manually add primary key"
   ]
  },
  {
   "cell_type": "code",
   "execution_count": 28,
   "metadata": {
    "collapsed": false
   },
   "outputs": [
    {
     "name": "stdout",
     "output_type": "stream",
     "text": [
      "Done.\n"
     ]
    },
    {
     "data": {
      "text/plain": [
       "[]"
      ]
     },
     "execution_count": 28,
     "metadata": {},
     "output_type": "execute_result"
    }
   ],
   "source": [
    "%%sql\n",
    "ALTER TABLE location_dimension ADD COLUMN location_key BIGSERIAL PRIMARY KEY;"
   ]
  },
  {
   "cell_type": "markdown",
   "metadata": {},
   "source": [
    "Create second version of fact table by selecting select columns of the joins of the old fact table and the location dimension table"
   ]
  },
  {
   "cell_type": "code",
   "execution_count": 29,
   "metadata": {
    "collapsed": false
   },
   "outputs": [
    {
     "name": "stdout",
     "output_type": "stream",
     "text": [
      "Done.\n",
      "268052 rows affected.\n"
     ]
    },
    {
     "data": {
      "text/plain": [
       "[]"
      ]
     },
     "execution_count": 29,
     "metadata": {},
     "output_type": "execute_result"
    }
   ],
   "source": [
    "%%sql\n",
    "DROP TABLE IF EXISTS crimes_fact2;\n",
    "CREATE TABLE crimes_fact2 AS\n",
    "(\n",
    "SELECT f.idnum, f.nature_code, f.description, f.crime_code, f.date_time, f.weapon, f.shooting, f.domestic, f.severity, d.location_key\n",
    "FROM (SELECT * FROM location_dimension) AS d\n",
    "INNER JOIN (SELECT * FROM crimes_fact) AS f\n",
    "ON d.district_code = f.district_code\n",
    "AND d.report_area = f.report_area\n",
    "AND d.street = f.street\n",
    "    )\n",
    ";"
   ]
  },
  {
   "cell_type": "markdown",
   "metadata": {},
   "source": [
    "Create crime type dimension table"
   ]
  },
  {
   "cell_type": "code",
   "execution_count": 30,
   "metadata": {
    "collapsed": false
   },
   "outputs": [
    {
     "name": "stdout",
     "output_type": "stream",
     "text": [
      "Done.\n",
      "375 rows affected.\n"
     ]
    },
    {
     "data": {
      "text/plain": [
       "[]"
      ]
     },
     "execution_count": 30,
     "metadata": {},
     "output_type": "execute_result"
    }
   ],
   "source": [
    "%%sql\n",
    "DROP TABLE IF EXISTS crime_dimension;\n",
    "CREATE TABLE crime_dimension AS\n",
    "    SELECT DISTINCT\n",
    "    description,\n",
    "    weapon,\n",
    "    shooting,\n",
    "    domestic,\n",
    "    severity\n",
    "FROM crime;"
   ]
  },
  {
   "cell_type": "markdown",
   "metadata": {},
   "source": [
    "Manually create primary key"
   ]
  },
  {
   "cell_type": "code",
   "execution_count": 31,
   "metadata": {
    "collapsed": false
   },
   "outputs": [
    {
     "name": "stdout",
     "output_type": "stream",
     "text": [
      "Done.\n"
     ]
    },
    {
     "data": {
      "text/plain": [
       "[]"
      ]
     },
     "execution_count": 31,
     "metadata": {},
     "output_type": "execute_result"
    }
   ],
   "source": [
    "%%sql\n",
    "ALTER TABLE crime_dimension ADD COLUMN crime_key BIGSERIAL PRIMARY KEY;"
   ]
  },
  {
   "cell_type": "markdown",
   "metadata": {},
   "source": [
    "Using same logic as above, create the third version of the fact table"
   ]
  },
  {
   "cell_type": "code",
   "execution_count": 32,
   "metadata": {
    "collapsed": false
   },
   "outputs": [
    {
     "name": "stdout",
     "output_type": "stream",
     "text": [
      "Done.\n",
      "268052 rows affected.\n"
     ]
    },
    {
     "data": {
      "text/plain": [
       "[]"
      ]
     },
     "execution_count": 32,
     "metadata": {},
     "output_type": "execute_result"
    }
   ],
   "source": [
    "%%sql\n",
    "DROP TABLE IF EXISTS crimes_fact3;\n",
    "CREATE TABLE crimes_fact3 AS\n",
    "(\n",
    "SELECT f2.idnum, f2.location_key, f2.date_time, d.crime_key\n",
    "FROM (SELECT * FROM crime_dimension) AS d\n",
    "INNER JOIN (SELECT * FROM crimes_fact2) AS f2\n",
    "ON d.description = f2.description\n",
    "AND d.weapon = f2.weapon\n",
    "AND d.shooting = f2.shooting\n",
    "AND d.domestic = f2.domestic\n",
    "AND d.severity = f2.severity\n",
    ")\n",
    ";"
   ]
  },
  {
   "cell_type": "markdown",
   "metadata": {},
   "source": [
    "Take a look at the fact table"
   ]
  },
  {
   "cell_type": "code",
   "execution_count": 33,
   "metadata": {
    "collapsed": false
   },
   "outputs": [
    {
     "name": "stdout",
     "output_type": "stream",
     "text": [
      "30 rows affected.\n"
     ]
    },
    {
     "data": {
      "text/html": [
       "<table>\n",
       "    <tr>\n",
       "        <th>idnum</th>\n",
       "        <th>location_key</th>\n",
       "        <th>date_time</th>\n",
       "        <th>crime_key</th>\n",
       "    </tr>\n",
       "    <tr>\n",
       "        <td>143201</td>\n",
       "        <td>9679</td>\n",
       "        <td>2014-02-27 19:22:00</td>\n",
       "        <td>1</td>\n",
       "    </tr>\n",
       "    <tr>\n",
       "        <td>134437</td>\n",
       "        <td>13318</td>\n",
       "        <td>2014-01-19 01:40:00</td>\n",
       "        <td>2</td>\n",
       "    </tr>\n",
       "    <tr>\n",
       "        <td>182427</td>\n",
       "        <td>16854</td>\n",
       "        <td>2014-08-04 12:26:00</td>\n",
       "        <td>2</td>\n",
       "    </tr>\n",
       "    <tr>\n",
       "        <td>82300</td>\n",
       "        <td>11740</td>\n",
       "        <td>2013-06-18 00:01:00</td>\n",
       "        <td>2</td>\n",
       "    </tr>\n",
       "    <tr>\n",
       "        <td>205704</td>\n",
       "        <td>17318</td>\n",
       "        <td>2014-11-04 17:17:00</td>\n",
       "        <td>2</td>\n",
       "    </tr>\n",
       "    <tr>\n",
       "        <td>112958</td>\n",
       "        <td>10137</td>\n",
       "        <td>2013-10-15 16:35:00</td>\n",
       "        <td>2</td>\n",
       "    </tr>\n",
       "    <tr>\n",
       "        <td>206235</td>\n",
       "        <td>9364</td>\n",
       "        <td>2014-11-06 22:22:00</td>\n",
       "        <td>2</td>\n",
       "    </tr>\n",
       "    <tr>\n",
       "        <td>211714</td>\n",
       "        <td>3814</td>\n",
       "        <td>2014-12-01 09:07:00</td>\n",
       "        <td>2</td>\n",
       "    </tr>\n",
       "    <tr>\n",
       "        <td>127201</td>\n",
       "        <td>6856</td>\n",
       "        <td>2013-12-17 08:40:00</td>\n",
       "        <td>2</td>\n",
       "    </tr>\n",
       "    <tr>\n",
       "        <td>40256</td>\n",
       "        <td>4395</td>\n",
       "        <td>2012-12-17 11:09:00</td>\n",
       "        <td>2</td>\n",
       "    </tr>\n",
       "    <tr>\n",
       "        <td>136303</td>\n",
       "        <td>5547</td>\n",
       "        <td>2014-01-27 11:31:00</td>\n",
       "        <td>2</td>\n",
       "    </tr>\n",
       "    <tr>\n",
       "        <td>82917</td>\n",
       "        <td>9296</td>\n",
       "        <td>2013-06-20 12:15:00</td>\n",
       "        <td>2</td>\n",
       "    </tr>\n",
       "    <tr>\n",
       "        <td>43383</td>\n",
       "        <td>18460</td>\n",
       "        <td>2013-01-01 09:25:00</td>\n",
       "        <td>2</td>\n",
       "    </tr>\n",
       "    <tr>\n",
       "        <td>50378</td>\n",
       "        <td>15747</td>\n",
       "        <td>2013-02-01 11:45:00</td>\n",
       "        <td>2</td>\n",
       "    </tr>\n",
       "    <tr>\n",
       "        <td>9490</td>\n",
       "        <td>8930</td>\n",
       "        <td>2012-08-14 08:59:00</td>\n",
       "        <td>2</td>\n",
       "    </tr>\n",
       "    <tr>\n",
       "        <td>46073</td>\n",
       "        <td>8291</td>\n",
       "        <td>2013-01-13 14:20:00</td>\n",
       "        <td>2</td>\n",
       "    </tr>\n",
       "    <tr>\n",
       "        <td>89910</td>\n",
       "        <td>1173</td>\n",
       "        <td>2013-07-17 10:39:00</td>\n",
       "        <td>2</td>\n",
       "    </tr>\n",
       "    <tr>\n",
       "        <td>14911</td>\n",
       "        <td>18628</td>\n",
       "        <td>2012-09-04 04:57:00</td>\n",
       "        <td>2</td>\n",
       "    </tr>\n",
       "    <tr>\n",
       "        <td>160016</td>\n",
       "        <td>14255</td>\n",
       "        <td>2014-05-09 16:00:00</td>\n",
       "        <td>2</td>\n",
       "    </tr>\n",
       "    <tr>\n",
       "        <td>85386</td>\n",
       "        <td>19046</td>\n",
       "        <td>2013-06-30 00:01:00</td>\n",
       "        <td>2</td>\n",
       "    </tr>\n",
       "    <tr>\n",
       "        <td>65538</td>\n",
       "        <td>13942</td>\n",
       "        <td>2013-04-09 21:23:00</td>\n",
       "        <td>2</td>\n",
       "    </tr>\n",
       "    <tr>\n",
       "        <td>204187</td>\n",
       "        <td>4927</td>\n",
       "        <td>2014-10-29 14:00:00</td>\n",
       "        <td>2</td>\n",
       "    </tr>\n",
       "    <tr>\n",
       "        <td>39028</td>\n",
       "        <td>4530</td>\n",
       "        <td>2012-12-12 14:53:00</td>\n",
       "        <td>2</td>\n",
       "    </tr>\n",
       "    <tr>\n",
       "        <td>205821</td>\n",
       "        <td>19199</td>\n",
       "        <td>2014-11-05 07:14:00</td>\n",
       "        <td>2</td>\n",
       "    </tr>\n",
       "    <tr>\n",
       "        <td>60476</td>\n",
       "        <td>305</td>\n",
       "        <td>2013-03-19 17:26:00</td>\n",
       "        <td>2</td>\n",
       "    </tr>\n",
       "    <tr>\n",
       "        <td>93281</td>\n",
       "        <td>3317</td>\n",
       "        <td>2013-07-30 10:09:00</td>\n",
       "        <td>2</td>\n",
       "    </tr>\n",
       "    <tr>\n",
       "        <td>47946</td>\n",
       "        <td>8685</td>\n",
       "        <td>2013-01-21 20:52:00</td>\n",
       "        <td>2</td>\n",
       "    </tr>\n",
       "    <tr>\n",
       "        <td>158474</td>\n",
       "        <td>473</td>\n",
       "        <td>2014-05-27 09:09:00</td>\n",
       "        <td>2</td>\n",
       "    </tr>\n",
       "    <tr>\n",
       "        <td>65452</td>\n",
       "        <td>6555</td>\n",
       "        <td>2013-04-09 13:58:00</td>\n",
       "        <td>2</td>\n",
       "    </tr>\n",
       "    <tr>\n",
       "        <td>9748</td>\n",
       "        <td>3317</td>\n",
       "        <td>2012-08-15 08:19:00</td>\n",
       "        <td>2</td>\n",
       "    </tr>\n",
       "</table>"
      ],
      "text/plain": [
       "[(143201, 9679, datetime.datetime(2014, 2, 27, 19, 22), 1),\n",
       " (134437, 13318, datetime.datetime(2014, 1, 19, 1, 40), 2),\n",
       " (182427, 16854, datetime.datetime(2014, 8, 4, 12, 26), 2),\n",
       " (82300, 11740, datetime.datetime(2013, 6, 18, 0, 1), 2),\n",
       " (205704, 17318, datetime.datetime(2014, 11, 4, 17, 17), 2),\n",
       " (112958, 10137, datetime.datetime(2013, 10, 15, 16, 35), 2),\n",
       " (206235, 9364, datetime.datetime(2014, 11, 6, 22, 22), 2),\n",
       " (211714, 3814, datetime.datetime(2014, 12, 1, 9, 7), 2),\n",
       " (127201, 6856, datetime.datetime(2013, 12, 17, 8, 40), 2),\n",
       " (40256, 4395, datetime.datetime(2012, 12, 17, 11, 9), 2),\n",
       " (136303, 5547, datetime.datetime(2014, 1, 27, 11, 31), 2),\n",
       " (82917, 9296, datetime.datetime(2013, 6, 20, 12, 15), 2),\n",
       " (43383, 18460, datetime.datetime(2013, 1, 1, 9, 25), 2),\n",
       " (50378, 15747, datetime.datetime(2013, 2, 1, 11, 45), 2),\n",
       " (9490, 8930, datetime.datetime(2012, 8, 14, 8, 59), 2),\n",
       " (46073, 8291, datetime.datetime(2013, 1, 13, 14, 20), 2),\n",
       " (89910, 1173, datetime.datetime(2013, 7, 17, 10, 39), 2),\n",
       " (14911, 18628, datetime.datetime(2012, 9, 4, 4, 57), 2),\n",
       " (160016, 14255, datetime.datetime(2014, 5, 9, 16, 0), 2),\n",
       " (85386, 19046, datetime.datetime(2013, 6, 30, 0, 1), 2),\n",
       " (65538, 13942, datetime.datetime(2013, 4, 9, 21, 23), 2),\n",
       " (204187, 4927, datetime.datetime(2014, 10, 29, 14, 0), 2),\n",
       " (39028, 4530, datetime.datetime(2012, 12, 12, 14, 53), 2),\n",
       " (205821, 19199, datetime.datetime(2014, 11, 5, 7, 14), 2),\n",
       " (60476, 305, datetime.datetime(2013, 3, 19, 17, 26), 2),\n",
       " (93281, 3317, datetime.datetime(2013, 7, 30, 10, 9), 2),\n",
       " (47946, 8685, datetime.datetime(2013, 1, 21, 20, 52), 2),\n",
       " (158474, 473, datetime.datetime(2014, 5, 27, 9, 9), 2),\n",
       " (65452, 6555, datetime.datetime(2013, 4, 9, 13, 58), 2),\n",
       " (9748, 3317, datetime.datetime(2012, 8, 15, 8, 19), 2)]"
      ]
     },
     "execution_count": 33,
     "metadata": {},
     "output_type": "execute_result"
    }
   ],
   "source": [
    "%%sql\n",
    "SELECT * FROM crimes_fact3\n",
    "LIMIT 30;"
   ]
  },
  {
   "cell_type": "markdown",
   "metadata": {},
   "source": [
    "Compare two of the above values with same dimension key (1786) to see if our logic works"
   ]
  },
  {
   "cell_type": "code",
   "execution_count": 34,
   "metadata": {
    "collapsed": false
   },
   "outputs": [
    {
     "name": "stdout",
     "output_type": "stream",
     "text": [
      "1 rows affected.\n"
     ]
    },
    {
     "data": {
      "text/html": [
       "<table>\n",
       "    <tr>\n",
       "        <th>nature_code</th>\n",
       "        <th>description</th>\n",
       "        <th>crime_code</th>\n",
       "        <th>district_code</th>\n",
       "        <th>report_area</th>\n",
       "        <th>date_time</th>\n",
       "        <th>weapon</th>\n",
       "        <th>shooting</th>\n",
       "        <th>domestic</th>\n",
       "        <th>shift</th>\n",
       "        <th>year</th>\n",
       "        <th>month</th>\n",
       "        <th>day</th>\n",
       "        <th>severity</th>\n",
       "        <th>x</th>\n",
       "        <th>y</th>\n",
       "        <th>street</th>\n",
       "        <th>cross_street</th>\n",
       "        <th>location</th>\n",
       "        <th>idnum</th>\n",
       "    </tr>\n",
       "    <tr>\n",
       "        <td>PARTY </td>\n",
       "        <td>Gather</td>\n",
       "        <td>Gather</td>\n",
       "        <td>B2</td>\n",
       "        <td>311</td>\n",
       "        <td>2014-05-18 03:13:00</td>\n",
       "        <td>Unarmed</td>\n",
       "        <td>False</td>\n",
       "        <td>False</td>\n",
       "        <td>Last</td>\n",
       "        <td>2014</td>\n",
       "        <td>5</td>\n",
       "        <td>Sunday</td>\n",
       "        <td>Part Three</td>\n",
       "        <td>769791.8058</td>\n",
       "        <td>2940458.144</td>\n",
       "        <td>SAVIN ST</td>\n",
       "        <td>None</td>\n",
       "        <td>(42.31599931, -71.07988256)</td>\n",
       "        <td>162349</td>\n",
       "    </tr>\n",
       "</table>"
      ],
      "text/plain": [
       "[('PARTY ', 'Gather', 'Gather', 'B2', 311, datetime.datetime(2014, 5, 18, 3, 13), 'Unarmed', False, False, 'Last', 2014, 5, 'Sunday', 'Part Three', Decimal('769791.8058'), Decimal('2940458.144'), 'SAVIN ST', None, '(42.31599931, -71.07988256)', 162349)]"
      ]
     },
     "execution_count": 34,
     "metadata": {},
     "output_type": "execute_result"
    }
   ],
   "source": [
    "%%sql\n",
    "SELECT * FROM crimes_fact\n",
    "WHERE idnum = 162349;"
   ]
  },
  {
   "cell_type": "code",
   "execution_count": 35,
   "metadata": {
    "collapsed": false
   },
   "outputs": [
    {
     "name": "stdout",
     "output_type": "stream",
     "text": [
      "1 rows affected.\n"
     ]
    },
    {
     "data": {
      "text/html": [
       "<table>\n",
       "    <tr>\n",
       "        <th>nature_code</th>\n",
       "        <th>description</th>\n",
       "        <th>crime_code</th>\n",
       "        <th>district_code</th>\n",
       "        <th>report_area</th>\n",
       "        <th>date_time</th>\n",
       "        <th>weapon</th>\n",
       "        <th>shooting</th>\n",
       "        <th>domestic</th>\n",
       "        <th>shift</th>\n",
       "        <th>year</th>\n",
       "        <th>month</th>\n",
       "        <th>day</th>\n",
       "        <th>severity</th>\n",
       "        <th>x</th>\n",
       "        <th>y</th>\n",
       "        <th>street</th>\n",
       "        <th>cross_street</th>\n",
       "        <th>location</th>\n",
       "        <th>idnum</th>\n",
       "    </tr>\n",
       "    <tr>\n",
       "        <td>MVA</td>\n",
       "        <td>MVAcc</td>\n",
       "        <td>MVAcc</td>\n",
       "        <td>A1</td>\n",
       "        <td>0</td>\n",
       "        <td>2015-04-30 12:50:00</td>\n",
       "        <td>Unarmed</td>\n",
       "        <td>False</td>\n",
       "        <td>False</td>\n",
       "        <td>Day</td>\n",
       "        <td>2015</td>\n",
       "        <td>4</td>\n",
       "        <td>Thursday</td>\n",
       "        <td>Other</td>\n",
       "        <td>776522.8934</td>\n",
       "        <td>2958894.803</td>\n",
       "        <td>SALEM ST</td>\n",
       "        <td>None</td>\n",
       "        <td>(42.36649634, -71.05463956)</td>\n",
       "        <td>244996</td>\n",
       "    </tr>\n",
       "</table>"
      ],
      "text/plain": [
       "[('MVA', 'MVAcc', 'MVAcc', 'A1', 0, datetime.datetime(2015, 4, 30, 12, 50), 'Unarmed', False, False, 'Day', 2015, 4, 'Thursday', 'Other', Decimal('776522.8934'), Decimal('2958894.803'), 'SALEM ST', None, '(42.36649634, -71.05463956)', 244996)]"
      ]
     },
     "execution_count": 35,
     "metadata": {},
     "output_type": "execute_result"
    }
   ],
   "source": [
    "%%sql\n",
    "SELECT * FROM crimes_fact\n",
    "WHERE idnum = 244996;"
   ]
  },
  {
   "cell_type": "markdown",
   "metadata": {},
   "source": [
    "Both these crimes happened on Anderson Street In district A1 and report are 0!"
   ]
  },
  {
   "cell_type": "markdown",
   "metadata": {},
   "source": [
    "Let's take a look at the fact table and all three dimension tables"
   ]
  },
  {
   "cell_type": "code",
   "execution_count": 36,
   "metadata": {
    "collapsed": false
   },
   "outputs": [
    {
     "name": "stdout",
     "output_type": "stream",
     "text": [
      "10 rows affected.\n"
     ]
    },
    {
     "data": {
      "text/html": [
       "<table>\n",
       "    <tr>\n",
       "        <th>idnum</th>\n",
       "        <th>location_key</th>\n",
       "        <th>date_time</th>\n",
       "        <th>crime_key</th>\n",
       "    </tr>\n",
       "    <tr>\n",
       "        <td>143201</td>\n",
       "        <td>9679</td>\n",
       "        <td>2014-02-27 19:22:00</td>\n",
       "        <td>1</td>\n",
       "    </tr>\n",
       "    <tr>\n",
       "        <td>134437</td>\n",
       "        <td>13318</td>\n",
       "        <td>2014-01-19 01:40:00</td>\n",
       "        <td>2</td>\n",
       "    </tr>\n",
       "    <tr>\n",
       "        <td>182427</td>\n",
       "        <td>16854</td>\n",
       "        <td>2014-08-04 12:26:00</td>\n",
       "        <td>2</td>\n",
       "    </tr>\n",
       "    <tr>\n",
       "        <td>82300</td>\n",
       "        <td>11740</td>\n",
       "        <td>2013-06-18 00:01:00</td>\n",
       "        <td>2</td>\n",
       "    </tr>\n",
       "    <tr>\n",
       "        <td>205704</td>\n",
       "        <td>17318</td>\n",
       "        <td>2014-11-04 17:17:00</td>\n",
       "        <td>2</td>\n",
       "    </tr>\n",
       "    <tr>\n",
       "        <td>112958</td>\n",
       "        <td>10137</td>\n",
       "        <td>2013-10-15 16:35:00</td>\n",
       "        <td>2</td>\n",
       "    </tr>\n",
       "    <tr>\n",
       "        <td>206235</td>\n",
       "        <td>9364</td>\n",
       "        <td>2014-11-06 22:22:00</td>\n",
       "        <td>2</td>\n",
       "    </tr>\n",
       "    <tr>\n",
       "        <td>211714</td>\n",
       "        <td>3814</td>\n",
       "        <td>2014-12-01 09:07:00</td>\n",
       "        <td>2</td>\n",
       "    </tr>\n",
       "    <tr>\n",
       "        <td>127201</td>\n",
       "        <td>6856</td>\n",
       "        <td>2013-12-17 08:40:00</td>\n",
       "        <td>2</td>\n",
       "    </tr>\n",
       "    <tr>\n",
       "        <td>40256</td>\n",
       "        <td>4395</td>\n",
       "        <td>2012-12-17 11:09:00</td>\n",
       "        <td>2</td>\n",
       "    </tr>\n",
       "</table>"
      ],
      "text/plain": [
       "[(143201, 9679, datetime.datetime(2014, 2, 27, 19, 22), 1),\n",
       " (134437, 13318, datetime.datetime(2014, 1, 19, 1, 40), 2),\n",
       " (182427, 16854, datetime.datetime(2014, 8, 4, 12, 26), 2),\n",
       " (82300, 11740, datetime.datetime(2013, 6, 18, 0, 1), 2),\n",
       " (205704, 17318, datetime.datetime(2014, 11, 4, 17, 17), 2),\n",
       " (112958, 10137, datetime.datetime(2013, 10, 15, 16, 35), 2),\n",
       " (206235, 9364, datetime.datetime(2014, 11, 6, 22, 22), 2),\n",
       " (211714, 3814, datetime.datetime(2014, 12, 1, 9, 7), 2),\n",
       " (127201, 6856, datetime.datetime(2013, 12, 17, 8, 40), 2),\n",
       " (40256, 4395, datetime.datetime(2012, 12, 17, 11, 9), 2)]"
      ]
     },
     "execution_count": 36,
     "metadata": {},
     "output_type": "execute_result"
    }
   ],
   "source": [
    "%%sql\n",
    "SELECT * FROM crimes_fact3\n",
    "LIMIT 10;"
   ]
  },
  {
   "cell_type": "code",
   "execution_count": 37,
   "metadata": {
    "collapsed": false
   },
   "outputs": [
    {
     "name": "stdout",
     "output_type": "stream",
     "text": [
      "10 rows affected.\n"
     ]
    },
    {
     "data": {
      "text/html": [
       "<table>\n",
       "    <tr>\n",
       "        <th>date_time</th>\n",
       "        <th>shift</th>\n",
       "        <th>year</th>\n",
       "        <th>month</th>\n",
       "        <th>day</th>\n",
       "    </tr>\n",
       "    <tr>\n",
       "        <td>2014-10-13 16:48:00</td>\n",
       "        <td>First</td>\n",
       "        <td>2014</td>\n",
       "        <td>10</td>\n",
       "        <td>Monday</td>\n",
       "    </tr>\n",
       "    <tr>\n",
       "        <td>2012-12-09 15:00:00</td>\n",
       "        <td>Day</td>\n",
       "        <td>2012</td>\n",
       "        <td>12</td>\n",
       "        <td>Sunday</td>\n",
       "    </tr>\n",
       "    <tr>\n",
       "        <td>2013-01-21 16:04:00</td>\n",
       "        <td>First</td>\n",
       "        <td>2013</td>\n",
       "        <td>1</td>\n",
       "        <td>Monday</td>\n",
       "    </tr>\n",
       "    <tr>\n",
       "        <td>2013-08-09 23:00:00</td>\n",
       "        <td>First</td>\n",
       "        <td>2013</td>\n",
       "        <td>8</td>\n",
       "        <td>Friday</td>\n",
       "    </tr>\n",
       "    <tr>\n",
       "        <td>2012-10-04 03:50:00</td>\n",
       "        <td>Last</td>\n",
       "        <td>2012</td>\n",
       "        <td>10</td>\n",
       "        <td>Thursday</td>\n",
       "    </tr>\n",
       "    <tr>\n",
       "        <td>2012-10-25 13:00:00</td>\n",
       "        <td>Day</td>\n",
       "        <td>2012</td>\n",
       "        <td>10</td>\n",
       "        <td>Thursday</td>\n",
       "    </tr>\n",
       "    <tr>\n",
       "        <td>2013-04-09 09:55:00</td>\n",
       "        <td>Day</td>\n",
       "        <td>2013</td>\n",
       "        <td>4</td>\n",
       "        <td>Tuesday</td>\n",
       "    </tr>\n",
       "    <tr>\n",
       "        <td>2012-11-11 22:25:00</td>\n",
       "        <td>First</td>\n",
       "        <td>2012</td>\n",
       "        <td>11</td>\n",
       "        <td>Sunday</td>\n",
       "    </tr>\n",
       "    <tr>\n",
       "        <td>2013-03-21 08:50:00</td>\n",
       "        <td>Day</td>\n",
       "        <td>2013</td>\n",
       "        <td>3</td>\n",
       "        <td>Thursday</td>\n",
       "    </tr>\n",
       "    <tr>\n",
       "        <td>2014-08-31 21:03:00</td>\n",
       "        <td>First</td>\n",
       "        <td>2014</td>\n",
       "        <td>8</td>\n",
       "        <td>Sunday</td>\n",
       "    </tr>\n",
       "</table>"
      ],
      "text/plain": [
       "[(datetime.datetime(2014, 10, 13, 16, 48), 'First', 2014, 10, 'Monday'),\n",
       " (datetime.datetime(2012, 12, 9, 15, 0), 'Day', 2012, 12, 'Sunday'),\n",
       " (datetime.datetime(2013, 1, 21, 16, 4), 'First', 2013, 1, 'Monday'),\n",
       " (datetime.datetime(2013, 8, 9, 23, 0), 'First', 2013, 8, 'Friday'),\n",
       " (datetime.datetime(2012, 10, 4, 3, 50), 'Last', 2012, 10, 'Thursday'),\n",
       " (datetime.datetime(2012, 10, 25, 13, 0), 'Day', 2012, 10, 'Thursday'),\n",
       " (datetime.datetime(2013, 4, 9, 9, 55), 'Day', 2013, 4, 'Tuesday'),\n",
       " (datetime.datetime(2012, 11, 11, 22, 25), 'First', 2012, 11, 'Sunday'),\n",
       " (datetime.datetime(2013, 3, 21, 8, 50), 'Day', 2013, 3, 'Thursday'),\n",
       " (datetime.datetime(2014, 8, 31, 21, 3), 'First', 2014, 8, 'Sunday')]"
      ]
     },
     "execution_count": 37,
     "metadata": {},
     "output_type": "execute_result"
    }
   ],
   "source": [
    "%%sql\n",
    "SELECT * FROM time_dimension\n",
    "LIMIT 10;"
   ]
  },
  {
   "cell_type": "code",
   "execution_count": 38,
   "metadata": {
    "collapsed": false
   },
   "outputs": [
    {
     "name": "stdout",
     "output_type": "stream",
     "text": [
      "10 rows affected.\n"
     ]
    },
    {
     "data": {
      "text/html": [
       "<table>\n",
       "    <tr>\n",
       "        <th>district_code</th>\n",
       "        <th>report_area</th>\n",
       "        <th>street</th>\n",
       "        <th>location_key</th>\n",
       "    </tr>\n",
       "    <tr>\n",
       "        <td>A7</td>\n",
       "        <td>34</td>\n",
       "        <td>JEFFRIES ST</td>\n",
       "        <td>1</td>\n",
       "    </tr>\n",
       "    <tr>\n",
       "        <td>B2</td>\n",
       "        <td>264</td>\n",
       "        <td>BLUE HILL AVE</td>\n",
       "        <td>2</td>\n",
       "    </tr>\n",
       "    <tr>\n",
       "        <td>E18</td>\n",
       "        <td>529</td>\n",
       "        <td>SPRAGUE ST</td>\n",
       "        <td>3</td>\n",
       "    </tr>\n",
       "    <tr>\n",
       "        <td>C6</td>\n",
       "        <td>206</td>\n",
       "        <td>B ST</td>\n",
       "        <td>4</td>\n",
       "    </tr>\n",
       "    <tr>\n",
       "        <td>C11</td>\n",
       "        <td>0</td>\n",
       "        <td>NAVILLUS TR</td>\n",
       "        <td>5</td>\n",
       "    </tr>\n",
       "    <tr>\n",
       "        <td>C6</td>\n",
       "        <td>0</td>\n",
       "        <td>BLACK FALCON AV</td>\n",
       "        <td>6</td>\n",
       "    </tr>\n",
       "    <tr>\n",
       "        <td>B2</td>\n",
       "        <td>331</td>\n",
       "        <td>GLENDALE ST</td>\n",
       "        <td>7</td>\n",
       "    </tr>\n",
       "    <tr>\n",
       "        <td>B2</td>\n",
       "        <td>285</td>\n",
       "        <td>PARKER ST</td>\n",
       "        <td>8</td>\n",
       "    </tr>\n",
       "    <tr>\n",
       "        <td>A1</td>\n",
       "        <td>67</td>\n",
       "        <td>GARDEN CT ST</td>\n",
       "        <td>9</td>\n",
       "    </tr>\n",
       "    <tr>\n",
       "        <td>B2</td>\n",
       "        <td>182</td>\n",
       "        <td>MALCOLM X BL</td>\n",
       "        <td>10</td>\n",
       "    </tr>\n",
       "</table>"
      ],
      "text/plain": [
       "[('A7', 34, 'JEFFRIES ST', 1),\n",
       " ('B2', 264, 'BLUE HILL AVE', 2),\n",
       " ('E18', 529, 'SPRAGUE ST', 3),\n",
       " ('C6', 206, 'B ST', 4),\n",
       " ('C11', 0, 'NAVILLUS TR', 5),\n",
       " ('C6', 0, 'BLACK FALCON AV', 6),\n",
       " ('B2', 331, 'GLENDALE ST', 7),\n",
       " ('B2', 285, 'PARKER ST', 8),\n",
       " ('A1', 67, 'GARDEN CT ST', 9),\n",
       " ('B2', 182, 'MALCOLM X BL', 10)]"
      ]
     },
     "execution_count": 38,
     "metadata": {},
     "output_type": "execute_result"
    }
   ],
   "source": [
    "%%sql\n",
    "SELECT * FROM location_dimension\n",
    "LIMIT 10;"
   ]
  },
  {
   "cell_type": "code",
   "execution_count": 39,
   "metadata": {
    "collapsed": false
   },
   "outputs": [
    {
     "name": "stdout",
     "output_type": "stream",
     "text": [
      "10 rows affected.\n"
     ]
    },
    {
     "data": {
      "text/html": [
       "<table>\n",
       "    <tr>\n",
       "        <th>description</th>\n",
       "        <th>weapon</th>\n",
       "        <th>shooting</th>\n",
       "        <th>domestic</th>\n",
       "        <th>severity</th>\n",
       "        <th>crime_key</th>\n",
       "    </tr>\n",
       "    <tr>\n",
       "        <td>07RV</td>\n",
       "        <td>Knife</td>\n",
       "        <td>False</td>\n",
       "        <td>False</td>\n",
       "        <td>Other</td>\n",
       "        <td>1</td>\n",
       "    </tr>\n",
       "    <tr>\n",
       "        <td>07RV</td>\n",
       "        <td>Other</td>\n",
       "        <td>False</td>\n",
       "        <td>False</td>\n",
       "        <td>Other</td>\n",
       "        <td>2</td>\n",
       "    </tr>\n",
       "    <tr>\n",
       "        <td>07RV</td>\n",
       "        <td>Unarmed</td>\n",
       "        <td>False</td>\n",
       "        <td>False</td>\n",
       "        <td>Other</td>\n",
       "        <td>3</td>\n",
       "    </tr>\n",
       "    <tr>\n",
       "        <td>32GUN</td>\n",
       "        <td>Firearm</td>\n",
       "        <td>False</td>\n",
       "        <td>False</td>\n",
       "        <td>Part Three</td>\n",
       "        <td>4</td>\n",
       "    </tr>\n",
       "    <tr>\n",
       "        <td>32GUN</td>\n",
       "        <td>Knife</td>\n",
       "        <td>False</td>\n",
       "        <td>False</td>\n",
       "        <td>Part Three</td>\n",
       "        <td>5</td>\n",
       "    </tr>\n",
       "    <tr>\n",
       "        <td>32GUN</td>\n",
       "        <td>Other</td>\n",
       "        <td>False</td>\n",
       "        <td>False</td>\n",
       "        <td>Part Three</td>\n",
       "        <td>6</td>\n",
       "    </tr>\n",
       "    <tr>\n",
       "        <td>32GUN</td>\n",
       "        <td>Unarmed</td>\n",
       "        <td>False</td>\n",
       "        <td>False</td>\n",
       "        <td>Part Three</td>\n",
       "        <td>7</td>\n",
       "    </tr>\n",
       "    <tr>\n",
       "        <td>AGGRAVATED ASSAULT</td>\n",
       "        <td>Firearm</td>\n",
       "        <td>False</td>\n",
       "        <td>False</td>\n",
       "        <td>Part One</td>\n",
       "        <td>8</td>\n",
       "    </tr>\n",
       "    <tr>\n",
       "        <td>AGGRAVATED ASSAULT</td>\n",
       "        <td>Firearm</td>\n",
       "        <td>True</td>\n",
       "        <td>False</td>\n",
       "        <td>Part One</td>\n",
       "        <td>9</td>\n",
       "    </tr>\n",
       "    <tr>\n",
       "        <td>AGGRAVATED ASSAULT</td>\n",
       "        <td>Knife</td>\n",
       "        <td>False</td>\n",
       "        <td>False</td>\n",
       "        <td>Part One</td>\n",
       "        <td>10</td>\n",
       "    </tr>\n",
       "</table>"
      ],
      "text/plain": [
       "[('07RV', 'Knife', False, False, 'Other', 1),\n",
       " ('07RV', 'Other', False, False, 'Other', 2),\n",
       " ('07RV', 'Unarmed', False, False, 'Other', 3),\n",
       " ('32GUN', 'Firearm', False, False, 'Part Three', 4),\n",
       " ('32GUN', 'Knife', False, False, 'Part Three', 5),\n",
       " ('32GUN', 'Other', False, False, 'Part Three', 6),\n",
       " ('32GUN', 'Unarmed', False, False, 'Part Three', 7),\n",
       " ('AGGRAVATED ASSAULT', 'Firearm', False, False, 'Part One', 8),\n",
       " ('AGGRAVATED ASSAULT', 'Firearm', True, False, 'Part One', 9),\n",
       " ('AGGRAVATED ASSAULT', 'Knife', False, False, 'Part One', 10)]"
      ]
     },
     "execution_count": 39,
     "metadata": {},
     "output_type": "execute_result"
    }
   ],
   "source": [
    "%%sql\n",
    "SELECT * FROM crime_dimension\n",
    "LIMIT 10;"
   ]
  },
  {
   "cell_type": "markdown",
   "metadata": {},
   "source": [
    "## Problem 4: Exploring the Schema"
   ]
  },
  {
   "cell_type": "markdown",
   "metadata": {},
   "source": [
    "Take a look at the most crime-ridden locations in Boston"
   ]
  },
  {
   "cell_type": "code",
   "execution_count": 40,
   "metadata": {
    "collapsed": false
   },
   "outputs": [
    {
     "name": "stdout",
     "output_type": "stream",
     "text": [
      "10 rows affected.\n"
     ]
    },
    {
     "data": {
      "text/html": [
       "<table>\n",
       "    <tr>\n",
       "        <th>district_code</th>\n",
       "        <th>report_area</th>\n",
       "        <th>street</th>\n",
       "    </tr>\n",
       "    <tr>\n",
       "        <td>B3</td>\n",
       "        <td>0</td>\n",
       "        <td>BLUE HILL AV</td>\n",
       "    </tr>\n",
       "    <tr>\n",
       "        <td>C11</td>\n",
       "        <td>0</td>\n",
       "        <td>DORCHESTER AV</td>\n",
       "    </tr>\n",
       "    <tr>\n",
       "        <td>D4</td>\n",
       "        <td>0</td>\n",
       "        <td>BOYLSTON ST</td>\n",
       "    </tr>\n",
       "    <tr>\n",
       "        <td>B2</td>\n",
       "        <td>282</td>\n",
       "        <td>WASHINGTON ST</td>\n",
       "    </tr>\n",
       "    <tr>\n",
       "        <td>D4</td>\n",
       "        <td>0</td>\n",
       "        <td>MASSACHUSETTS AV</td>\n",
       "    </tr>\n",
       "    <tr>\n",
       "        <td>B2</td>\n",
       "        <td>0</td>\n",
       "        <td>WASHINGTON ST</td>\n",
       "    </tr>\n",
       "    <tr>\n",
       "        <td>A1</td>\n",
       "        <td>0</td>\n",
       "        <td>WASHINGTON ST</td>\n",
       "    </tr>\n",
       "    <tr>\n",
       "        <td>E18</td>\n",
       "        <td>0</td>\n",
       "        <td>HYDE PARK AV</td>\n",
       "    </tr>\n",
       "    <tr>\n",
       "        <td>D14</td>\n",
       "        <td>0</td>\n",
       "        <td>COMMONWEALTH AV</td>\n",
       "    </tr>\n",
       "    <tr>\n",
       "        <td>D4</td>\n",
       "        <td>0</td>\n",
       "        <td>HARRISON AV</td>\n",
       "    </tr>\n",
       "</table>"
      ],
      "text/plain": [
       "[('B3', 0, 'BLUE HILL AV'),\n",
       " ('C11', 0, 'DORCHESTER AV'),\n",
       " ('D4', 0, 'BOYLSTON ST'),\n",
       " ('B2', 282, 'WASHINGTON ST'),\n",
       " ('D4', 0, 'MASSACHUSETTS AV'),\n",
       " ('B2', 0, 'WASHINGTON ST'),\n",
       " ('A1', 0, 'WASHINGTON ST'),\n",
       " ('E18', 0, 'HYDE PARK AV'),\n",
       " ('D14', 0, 'COMMONWEALTH AV'),\n",
       " ('D4', 0, 'HARRISON AV')]"
      ]
     },
     "execution_count": 40,
     "metadata": {},
     "output_type": "execute_result"
    }
   ],
   "source": [
    "%%sql\n",
    "SELECT district_code, report_area, street\n",
    "FROM location_dimension\n",
    "WHERE location_key IN (\n",
    "SELECT location_key\n",
    "FROM crimes_fact3\n",
    "GROUP BY location_key\n",
    "ORDER BY COUNT(*) DESC\n",
    "LIMIT 10\n",
    ");"
   ]
  },
  {
   "cell_type": "markdown",
   "metadata": {},
   "source": [
    "What about the hours of the day where the most crime happens?"
   ]
  },
  {
   "cell_type": "code",
   "execution_count": 41,
   "metadata": {
    "collapsed": false
   },
   "outputs": [
    {
     "name": "stdout",
     "output_type": "stream",
     "text": [
      "24 rows affected.\n"
     ]
    },
    {
     "data": {
      "text/html": [
       "<table>\n",
       "    <tr>\n",
       "        <th>hours</th>\n",
       "        <th>count</th>\n",
       "    </tr>\n",
       "    <tr>\n",
       "        <td>0.0</td>\n",
       "        <td>20316</td>\n",
       "    </tr>\n",
       "    <tr>\n",
       "        <td>12.0</td>\n",
       "        <td>17390</td>\n",
       "    </tr>\n",
       "    <tr>\n",
       "        <td>17.0</td>\n",
       "        <td>16084</td>\n",
       "    </tr>\n",
       "    <tr>\n",
       "        <td>18.0</td>\n",
       "        <td>15956</td>\n",
       "    </tr>\n",
       "    <tr>\n",
       "        <td>16.0</td>\n",
       "        <td>15835</td>\n",
       "    </tr>\n",
       "    <tr>\n",
       "        <td>14.0</td>\n",
       "        <td>13500</td>\n",
       "    </tr>\n",
       "    <tr>\n",
       "        <td>19.0</td>\n",
       "        <td>13486</td>\n",
       "    </tr>\n",
       "    <tr>\n",
       "        <td>9.0</td>\n",
       "        <td>13006</td>\n",
       "    </tr>\n",
       "    <tr>\n",
       "        <td>15.0</td>\n",
       "        <td>13000</td>\n",
       "    </tr>\n",
       "    <tr>\n",
       "        <td>11.0</td>\n",
       "        <td>12870</td>\n",
       "    </tr>\n",
       "    <tr>\n",
       "        <td>10.0</td>\n",
       "        <td>12827</td>\n",
       "    </tr>\n",
       "    <tr>\n",
       "        <td>13.0</td>\n",
       "        <td>12636</td>\n",
       "    </tr>\n",
       "    <tr>\n",
       "        <td>20.0</td>\n",
       "        <td>12370</td>\n",
       "    </tr>\n",
       "    <tr>\n",
       "        <td>8.0</td>\n",
       "        <td>11581</td>\n",
       "    </tr>\n",
       "    <tr>\n",
       "        <td>21.0</td>\n",
       "        <td>10963</td>\n",
       "    </tr>\n",
       "    <tr>\n",
       "        <td>22.0</td>\n",
       "        <td>10406</td>\n",
       "    </tr>\n",
       "    <tr>\n",
       "        <td>23.0</td>\n",
       "        <td>8541</td>\n",
       "    </tr>\n",
       "    <tr>\n",
       "        <td>1.0</td>\n",
       "        <td>8229</td>\n",
       "    </tr>\n",
       "    <tr>\n",
       "        <td>7.0</td>\n",
       "        <td>8091</td>\n",
       "    </tr>\n",
       "    <tr>\n",
       "        <td>2.0</td>\n",
       "        <td>7280</td>\n",
       "    </tr>\n",
       "    <tr>\n",
       "        <td>3.0</td>\n",
       "        <td>4196</td>\n",
       "    </tr>\n",
       "    <tr>\n",
       "        <td>6.0</td>\n",
       "        <td>4126</td>\n",
       "    </tr>\n",
       "    <tr>\n",
       "        <td>4.0</td>\n",
       "        <td>2767</td>\n",
       "    </tr>\n",
       "    <tr>\n",
       "        <td>5.0</td>\n",
       "        <td>2596</td>\n",
       "    </tr>\n",
       "</table>"
      ],
      "text/plain": [
       "[(0.0, 20316),\n",
       " (12.0, 17390),\n",
       " (17.0, 16084),\n",
       " (18.0, 15956),\n",
       " (16.0, 15835),\n",
       " (14.0, 13500),\n",
       " (19.0, 13486),\n",
       " (9.0, 13006),\n",
       " (15.0, 13000),\n",
       " (11.0, 12870),\n",
       " (10.0, 12827),\n",
       " (13.0, 12636),\n",
       " (20.0, 12370),\n",
       " (8.0, 11581),\n",
       " (21.0, 10963),\n",
       " (22.0, 10406),\n",
       " (23.0, 8541),\n",
       " (1.0, 8229),\n",
       " (7.0, 8091),\n",
       " (2.0, 7280),\n",
       " (3.0, 4196),\n",
       " (6.0, 4126),\n",
       " (4.0, 2767),\n",
       " (5.0, 2596)]"
      ]
     },
     "execution_count": 41,
     "metadata": {},
     "output_type": "execute_result"
    }
   ],
   "source": [
    "%%sql\n",
    "SELECT hours, COUNT(*) FROM (\n",
    "    SELECT EXTRACT(HOUR FROM date_time) AS hours\n",
    "    FROM crimes_fact3\n",
    "    ) AS hour\n",
    "GROUP BY hours\n",
    "ORDER BY count DESC\n",
    ";"
   ]
  },
  {
   "cell_type": "markdown",
   "metadata": {},
   "source": [
    "Or which days of the week sees the most crime?"
   ]
  },
  {
   "cell_type": "code",
   "execution_count": 42,
   "metadata": {
    "collapsed": false
   },
   "outputs": [
    {
     "name": "stdout",
     "output_type": "stream",
     "text": [
      "7 rows affected.\n"
     ]
    },
    {
     "data": {
      "text/html": [
       "<table>\n",
       "    <tr>\n",
       "        <th>day</th>\n",
       "        <th>count</th>\n",
       "    </tr>\n",
       "    <tr>\n",
       "        <td>Friday</td>\n",
       "        <td>42031</td>\n",
       "    </tr>\n",
       "    <tr>\n",
       "        <td>Thursday</td>\n",
       "        <td>38627</td>\n",
       "    </tr>\n",
       "    <tr>\n",
       "        <td>Saturday</td>\n",
       "        <td>38446</td>\n",
       "    </tr>\n",
       "    <tr>\n",
       "        <td>Wednesday</td>\n",
       "        <td>38391</td>\n",
       "    </tr>\n",
       "    <tr>\n",
       "        <td>Monday</td>\n",
       "        <td>38255</td>\n",
       "    </tr>\n",
       "    <tr>\n",
       "        <td>Tuesday</td>\n",
       "        <td>37910</td>\n",
       "    </tr>\n",
       "    <tr>\n",
       "        <td>Sunday</td>\n",
       "        <td>34392</td>\n",
       "    </tr>\n",
       "</table>"
      ],
      "text/plain": [
       "[('Friday', 42031),\n",
       " ('Thursday', 38627),\n",
       " ('Saturday', 38446),\n",
       " ('Wednesday', 38391),\n",
       " ('Monday', 38255),\n",
       " ('Tuesday', 37910),\n",
       " ('Sunday', 34392)]"
      ]
     },
     "execution_count": 42,
     "metadata": {},
     "output_type": "execute_result"
    }
   ],
   "source": [
    "%%sql\n",
    "SELECT day, COUNT(*) FROM (\n",
    "    SELECT d.day\n",
    "    FROM time_dimension AS d, crimes_fact3 AS f\n",
    "    WHERE d.date_time = f.date_time\n",
    "    ) AS days\n",
    "GROUP BY day\n",
    "ORDER BY count DESC\n",
    ";"
   ]
  },
  {
   "cell_type": "markdown",
   "metadata": {},
   "source": [
    "Now let's take a look and see whether there is more crime after Boston sports teams win championships"
   ]
  },
  {
   "cell_type": "markdown",
   "metadata": {},
   "source": [
    "### Red Sox 2013 World Series Title"
   ]
  },
  {
   "cell_type": "markdown",
   "metadata": {},
   "source": [
    "First we will compare the number of crimes after the world series win compared to the number of crimes of the 6 days that are before the start of the world series."
   ]
  },
  {
   "cell_type": "code",
   "execution_count": 43,
   "metadata": {
    "collapsed": false
   },
   "outputs": [
    {
     "name": "stdout",
     "output_type": "stream",
     "text": [
      "1 rows affected.\n"
     ]
    },
    {
     "data": {
      "text/html": [
       "<table>\n",
       "    <tr>\n",
       "        <th>Post WS Crimes</th>\n",
       "    </tr>\n",
       "    <tr>\n",
       "        <td>1551</td>\n",
       "    </tr>\n",
       "</table>"
      ],
      "text/plain": [
       "[(1551,)]"
      ]
     },
     "execution_count": 43,
     "metadata": {},
     "output_type": "execute_result"
    }
   ],
   "source": [
    "%%sql\n",
    "SELECT count(idnum) AS \"Post WS Crimes\"\n",
    "FROM crimes_fact3, time_dimension\n",
    "WHERE time_dimension.date_time BETWEEN '10-29-2013 20:00:00' AND '11-4-2013 20:00:00'\n",
    "AND crimes_fact3.date_time = time_dimension.date_time;"
   ]
  },
  {
   "cell_type": "code",
   "execution_count": 56,
   "metadata": {
    "collapsed": false
   },
   "outputs": [
    {
     "name": "stdout",
     "output_type": "stream",
     "text": [
      "1 rows affected.\n"
     ]
    },
    {
     "data": {
      "text/html": [
       "<table>\n",
       "    <tr>\n",
       "        <th>Random Week Crimes</th>\n",
       "    </tr>\n",
       "    <tr>\n",
       "        <td>1417</td>\n",
       "    </tr>\n",
       "</table>"
      ],
      "text/plain": [
       "[(1417,)]"
      ]
     },
     "execution_count": 56,
     "metadata": {},
     "output_type": "execute_result"
    }
   ],
   "source": [
    "%%sql\n",
    "SELECT count(idnum) AS \"Random Week Crimes\"\n",
    "FROM crimes_fact3, time_dimension\n",
    "WHERE crimes_fact3.date_time = time_dimension.date_time\n",
    "AND time_dimension.date_time BETWEEN '10-17-2013 20:00:00' AND '10-23-2013 20:00:00';"
   ]
  },
  {
   "cell_type": "markdown",
   "metadata": {},
   "source": [
    "Lets also look at the crimes DURING the world series."
   ]
  },
  {
   "cell_type": "code",
   "execution_count": 45,
   "metadata": {
    "collapsed": false
   },
   "outputs": [
    {
     "name": "stdout",
     "output_type": "stream",
     "text": [
      "1 rows affected.\n"
     ]
    },
    {
     "data": {
      "text/html": [
       "<table>\n",
       "    <tr>\n",
       "        <th>World Series Crimes</th>\n",
       "    </tr>\n",
       "    <tr>\n",
       "        <td>1346</td>\n",
       "    </tr>\n",
       "</table>"
      ],
      "text/plain": [
       "[(1346,)]"
      ]
     },
     "execution_count": 45,
     "metadata": {},
     "output_type": "execute_result"
    }
   ],
   "source": [
    "%%sql\n",
    "SELECT count(idnum) AS \"World Series Crimes\"\n",
    "FROM crimes_fact3, time_dimension\n",
    "WHERE time_dimension.date_time BETWEEN '10-23-2013 20:00:00' AND '10-29-2013 20:00:00'\n",
    "AND crimes_fact3.date_time = time_dimension.date_time;"
   ]
  },
  {
   "cell_type": "markdown",
   "metadata": {},
   "source": [
    "We can now see that during the World Series there were more than 200 less crimes than after the World Series. The week after the World Series actually had more crime than the week prior to the start of the world series!"
   ]
  },
  {
   "cell_type": "markdown",
   "metadata": {},
   "source": [
    "In order for us to be able to get the average of severity of the crime for certain days and weeks, we need to create a new table that has the severity strings and matches them to the integer of 0,1,2, or 3 to correspond to the correct level. 0 will refer to other as it will not have much use in the average of severity because we do not know what it is. We need to create a new table first with the distinct idnum and severity, then create a new colunm and update it to have integers corresponding to the 4 levels. We do this below:"
   ]
  },
  {
   "cell_type": "code",
   "execution_count": 46,
   "metadata": {
    "collapsed": false
   },
   "outputs": [
    {
     "name": "stdout",
     "output_type": "stream",
     "text": [
      "Done.\n",
      "268056 rows affected.\n"
     ]
    },
    {
     "data": {
      "text/plain": [
       "[]"
      ]
     },
     "execution_count": 46,
     "metadata": {},
     "output_type": "execute_result"
    }
   ],
   "source": [
    "%%sql\n",
    "DROP TABLE IF EXISTS crime_severity;\n",
    "CREATE TABLE crime_severity AS\n",
    "    SELECT DISTINCT\n",
    "    idnum,\n",
    "    severity\n",
    "FROM crime;"
   ]
  },
  {
   "cell_type": "code",
   "execution_count": 47,
   "metadata": {
    "collapsed": false
   },
   "outputs": [
    {
     "name": "stdout",
     "output_type": "stream",
     "text": [
      "Done.\n"
     ]
    },
    {
     "data": {
      "text/plain": [
       "[]"
      ]
     },
     "execution_count": 47,
     "metadata": {},
     "output_type": "execute_result"
    }
   ],
   "source": [
    "%%sql\n",
    "ALTER TABLE crime_severity ADD COLUMN severity_num INTEGER;"
   ]
  },
  {
   "cell_type": "code",
   "execution_count": 48,
   "metadata": {
    "collapsed": false
   },
   "outputs": [
    {
     "name": "stdout",
     "output_type": "stream",
     "text": [
      "4 rows affected.\n"
     ]
    },
    {
     "data": {
      "text/html": [
       "<table>\n",
       "    <tr>\n",
       "        <th>severity</th>\n",
       "        <th>severity_num</th>\n",
       "    </tr>\n",
       "    <tr>\n",
       "        <td>Other</td>\n",
       "        <td>None</td>\n",
       "    </tr>\n",
       "    <tr>\n",
       "        <td>Part One</td>\n",
       "        <td>None</td>\n",
       "    </tr>\n",
       "    <tr>\n",
       "        <td>Part Two</td>\n",
       "        <td>None</td>\n",
       "    </tr>\n",
       "    <tr>\n",
       "        <td>Part Three</td>\n",
       "        <td>None</td>\n",
       "    </tr>\n",
       "</table>"
      ],
      "text/plain": [
       "[('Other', None), ('Part One', None), ('Part Two', None), ('Part Three', None)]"
      ]
     },
     "execution_count": 48,
     "metadata": {},
     "output_type": "execute_result"
    }
   ],
   "source": [
    "%%sql\n",
    "SELECT DISTINCT severity, severity_num FROM crime_severity;"
   ]
  },
  {
   "cell_type": "code",
   "execution_count": 49,
   "metadata": {
    "collapsed": false
   },
   "outputs": [
    {
     "name": "stdout",
     "output_type": "stream",
     "text": [
      "65261 rows affected.\n"
     ]
    },
    {
     "data": {
      "text/plain": [
       "[]"
      ]
     },
     "execution_count": 49,
     "metadata": {},
     "output_type": "execute_result"
    }
   ],
   "source": [
    "%%sql\n",
    "UPDATE crime_severity SET severity_num = 1 WHERE severity = 'Part One'"
   ]
  },
  {
   "cell_type": "code",
   "execution_count": 50,
   "metadata": {
    "collapsed": false
   },
   "outputs": [
    {
     "name": "stdout",
     "output_type": "stream",
     "text": [
      "98341 rows affected.\n"
     ]
    },
    {
     "data": {
      "text/plain": [
       "[]"
      ]
     },
     "execution_count": 50,
     "metadata": {},
     "output_type": "execute_result"
    }
   ],
   "source": [
    "%%sql\n",
    "UPDATE crime_severity SET severity_num = 2 WHERE severity = 'Part Two'"
   ]
  },
  {
   "cell_type": "code",
   "execution_count": 51,
   "metadata": {
    "collapsed": false
   },
   "outputs": [
    {
     "name": "stdout",
     "output_type": "stream",
     "text": [
      "89005 rows affected.\n"
     ]
    },
    {
     "data": {
      "text/plain": [
       "[]"
      ]
     },
     "execution_count": 51,
     "metadata": {},
     "output_type": "execute_result"
    }
   ],
   "source": [
    "%%sql\n",
    "UPDATE crime_severity SET severity_num = 3 WHERE severity = 'Part Three'"
   ]
  },
  {
   "cell_type": "code",
   "execution_count": 52,
   "metadata": {
    "collapsed": false
   },
   "outputs": [
    {
     "name": "stdout",
     "output_type": "stream",
     "text": [
      "15449 rows affected.\n"
     ]
    },
    {
     "data": {
      "text/plain": [
       "[]"
      ]
     },
     "execution_count": 52,
     "metadata": {},
     "output_type": "execute_result"
    }
   ],
   "source": [
    "%%sql\n",
    "UPDATE crime_severity SET severity_num = 0 WHERE severity = 'Other'"
   ]
  },
  {
   "cell_type": "code",
   "execution_count": 53,
   "metadata": {
    "collapsed": false
   },
   "outputs": [
    {
     "name": "stdout",
     "output_type": "stream",
     "text": [
      "4 rows affected.\n"
     ]
    },
    {
     "data": {
      "text/html": [
       "<table>\n",
       "    <tr>\n",
       "        <th>severity</th>\n",
       "        <th>severity_num</th>\n",
       "    </tr>\n",
       "    <tr>\n",
       "        <td>Part Two</td>\n",
       "        <td>2</td>\n",
       "    </tr>\n",
       "    <tr>\n",
       "        <td>Part Three</td>\n",
       "        <td>3</td>\n",
       "    </tr>\n",
       "    <tr>\n",
       "        <td>Other</td>\n",
       "        <td>0</td>\n",
       "    </tr>\n",
       "    <tr>\n",
       "        <td>Part One</td>\n",
       "        <td>1</td>\n",
       "    </tr>\n",
       "</table>"
      ],
      "text/plain": [
       "[('Part Two', 2), ('Part Three', 3), ('Other', 0), ('Part One', 1)]"
      ]
     },
     "execution_count": 53,
     "metadata": {},
     "output_type": "execute_result"
    }
   ],
   "source": [
    "%%sql\n",
    "SELECT DISTINCT severity, severity_num FROM crime_severity;"
   ]
  },
  {
   "cell_type": "markdown",
   "metadata": {},
   "source": [
    "Now we can use this table to take averages of the severity levels."
   ]
  },
  {
   "cell_type": "code",
   "execution_count": 59,
   "metadata": {
    "collapsed": false
   },
   "outputs": [
    {
     "name": "stdout",
     "output_type": "stream",
     "text": [
      "1 rows affected.\n"
     ]
    },
    {
     "data": {
      "text/html": [
       "<table>\n",
       "    <tr>\n",
       "        <th>Post World Series Crime Severity</th>\n",
       "    </tr>\n",
       "    <tr>\n",
       "        <td>2.0885504804122496</td>\n",
       "    </tr>\n",
       "</table>"
      ],
      "text/plain": [
       "[(Decimal('2.0885504804122496'),)]"
      ]
     },
     "execution_count": 59,
     "metadata": {},
     "output_type": "execute_result"
    }
   ],
   "source": [
    "%%sql\n",
    "SELECT AVG (crime_severity.severity_num) AS \"Post World Series Crime Severity\"\n",
    "FROM crime_severity, crime_dimension, time_dimension, crimes_fact3\n",
    "WHERE time_dimension.date_time BETWEEN '10-29-2013 20:00:00' AND '11-5-2013 20:00:00'\n",
    "AND crimes_fact3.date_time = time_dimension.date_time\n",
    "AND crimes_fact3.crime_key = crime_dimension.crime_key\n",
    "AND crime_severity.severity = crime_dimension.severity;"
   ]
  },
  {
   "cell_type": "code",
   "execution_count": 60,
   "metadata": {
    "collapsed": false
   },
   "outputs": [
    {
     "name": "stdout",
     "output_type": "stream",
     "text": [
      "1 rows affected.\n"
     ]
    },
    {
     "data": {
      "text/html": [
       "<table>\n",
       "    <tr>\n",
       "        <th>World Series Crime Severity</th>\n",
       "    </tr>\n",
       "    <tr>\n",
       "        <td>2.0289480079932053</td>\n",
       "    </tr>\n",
       "</table>"
      ],
      "text/plain": [
       "[(Decimal('2.0289480079932053'),)]"
      ]
     },
     "execution_count": 60,
     "metadata": {},
     "output_type": "execute_result"
    }
   ],
   "source": [
    "%%sql\n",
    "SELECT AVG (crime_severity.severity_num) AS \"World Series Crime Severity\"\n",
    "FROM crime_severity, crime_dimension, time_dimension, crimes_fact3\n",
    "WHERE time_dimension.date_time BETWEEN '10-23-2013 20:00:00' AND '10-29-2013 20:00:00'\n",
    "AND crimes_fact3.date_time = time_dimension.date_time\n",
    "AND crimes_fact3.crime_key = crime_dimension.crime_key\n",
    "AND crime_severity.severity = crime_dimension.severity;"
   ]
  },
  {
   "cell_type": "markdown",
   "metadata": {},
   "source": [
    "We can see that the average severity of crime the week after winning the world series was about a 2, but the average severity of during the world series is less by .06. Now lets see for all other times. Because the sample size is too large though, the notebook cannot allocate enough memory to calculate it, so we will take the week before the worlds series started to compare. If too many people are using datanotebook this will still not be able to run, but without the limit it takes too long anyways. As you will see, it has almost the same severity average as during the world series."
   ]
  },
  {
   "cell_type": "code",
   "execution_count": 57,
   "metadata": {
    "collapsed": false
   },
   "outputs": [
    {
     "name": "stdout",
     "output_type": "stream",
     "text": [
      "1 rows affected.\n"
     ]
    },
    {
     "data": {
      "text/html": [
       "<table>\n",
       "    <tr>\n",
       "        <th>Average Crime Severity</th>\n",
       "    </tr>\n",
       "    <tr>\n",
       "        <td>2.0216879780484057</td>\n",
       "    </tr>\n",
       "</table>"
      ],
      "text/plain": [
       "[(Decimal('2.0216879780484057'),)]"
      ]
     },
     "execution_count": 57,
     "metadata": {},
     "output_type": "execute_result"
    }
   ],
   "source": [
    "%%sql\n",
    "SELECT AVG (crime_severity.severity_num) AS \"Average Crime Severity\"\n",
    "FROM crime_severity, crime_dimension, time_dimension, crimes_fact3\n",
    "WHERE time_dimension.date_time BETWEEN '10-17-2013 20:00:00' AND '10-23-2013 20:00:00'\n",
    "AND crimes_fact3.date_time = time_dimension.date_time\n",
    "AND crimes_fact3.crime_key = crime_dimension.crime_key\n",
    "AND crime_severity.severity = crime_dimension.severity;"
   ]
  },
  {
   "cell_type": "markdown",
   "metadata": {},
   "source": [
    "### 2014 Patriots Super Bowl Win"
   ]
  },
  {
   "cell_type": "markdown",
   "metadata": {},
   "source": [
    "First we will do the same as we did with the World Series and take the counts for crime the week after the super bowl and 7 random days not including those after the Super Bowl. We will also look at crimes the day of the super bowl."
   ]
  },
  {
   "cell_type": "code",
   "execution_count": 61,
   "metadata": {
    "collapsed": false
   },
   "outputs": [
    {
     "name": "stdout",
     "output_type": "stream",
     "text": [
      "1 rows affected.\n"
     ]
    },
    {
     "data": {
      "text/html": [
       "<table>\n",
       "    <tr>\n",
       "        <th>Post Super Bowl Crimes</th>\n",
       "    </tr>\n",
       "    <tr>\n",
       "        <td>1360</td>\n",
       "    </tr>\n",
       "</table>"
      ],
      "text/plain": [
       "[(1360,)]"
      ]
     },
     "execution_count": 61,
     "metadata": {},
     "output_type": "execute_result"
    }
   ],
   "source": [
    "%%sql\n",
    "SELECT count(idnum) AS \"Post Super Bowl Crimes\"\n",
    "FROM crimes_fact3, time_dimension\n",
    "WHERE time_dimension.date_time BETWEEN '02-01-2015 20:00:00' AND '02-07-2015 20:00:00'\n",
    "AND crimes_fact3.date_time = time_dimension.date_time;"
   ]
  },
  {
   "cell_type": "code",
   "execution_count": 62,
   "metadata": {
    "collapsed": false
   },
   "outputs": [
    {
     "name": "stdout",
     "output_type": "stream",
     "text": [
      "1 rows affected.\n"
     ]
    },
    {
     "data": {
      "text/html": [
       "<table>\n",
       "    <tr>\n",
       "        <th>Pre Super BowlCrimes</th>\n",
       "    </tr>\n",
       "    <tr>\n",
       "        <td>1473</td>\n",
       "    </tr>\n",
       "</table>"
      ],
      "text/plain": [
       "[(1473,)]"
      ]
     },
     "execution_count": 62,
     "metadata": {},
     "output_type": "execute_result"
    }
   ],
   "source": [
    "%%sql\n",
    "SELECT count(idnum) AS \"Pre Super BowlCrimes\"\n",
    "FROM crimes_fact3, time_dimension\n",
    "WHERE time_dimension.date_time BETWEEN '01-26-2013 20:00:00' AND '02-01-2013 20:00:00'\n",
    "AND crimes_fact3.date_time = time_dimension.date_time;"
   ]
  },
  {
   "cell_type": "code",
   "execution_count": 63,
   "metadata": {
    "collapsed": false
   },
   "outputs": [
    {
     "name": "stdout",
     "output_type": "stream",
     "text": [
      "1 rows affected.\n"
     ]
    },
    {
     "data": {
      "text/html": [
       "<table>\n",
       "    <tr>\n",
       "        <th>Super Bowl Crimes</th>\n",
       "    </tr>\n",
       "    <tr>\n",
       "        <td>220</td>\n",
       "    </tr>\n",
       "</table>"
      ],
      "text/plain": [
       "[(220,)]"
      ]
     },
     "execution_count": 63,
     "metadata": {},
     "output_type": "execute_result"
    }
   ],
   "source": [
    "%%sql\n",
    "SELECT count(idnum) AS \"Super Bowl Crimes\"\n",
    "FROM crimes_fact3, time_dimension\n",
    "WHERE time_dimension.date_time BETWEEN '02-01-2015 00:00:00' AND '02-02-2015 00:00:00'\n",
    "AND crimes_fact3.date_time = time_dimension.date_time;"
   ]
  },
  {
   "cell_type": "markdown",
   "metadata": {},
   "source": [
    "1From above we can see that the week after the Super Bowl actually had more than 100 less crimes than the week after the world series win. Now this could also be due to weather factors but it could also show the super bowls affect on peoples behaviors."
   ]
  },
  {
   "cell_type": "markdown",
   "metadata": {},
   "source": [
    "Next we will again look at the severity of the crimes the week after the super bowl "
   ]
  },
  {
   "cell_type": "code",
   "execution_count": 64,
   "metadata": {
    "collapsed": false
   },
   "outputs": [
    {
     "name": "stdout",
     "output_type": "stream",
     "text": [
      "1 rows affected.\n"
     ]
    },
    {
     "data": {
      "text/html": [
       "<table>\n",
       "    <tr>\n",
       "        <th>Super Bowl Crime Severity</th>\n",
       "    </tr>\n",
       "    <tr>\n",
       "        <td>2.1983568637343942</td>\n",
       "    </tr>\n",
       "</table>"
      ],
      "text/plain": [
       "[(Decimal('2.1983568637343942'),)]"
      ]
     },
     "execution_count": 64,
     "metadata": {},
     "output_type": "execute_result"
    }
   ],
   "source": [
    "%%sql\n",
    "SELECT AVG (crime_severity.severity_num) AS \"Super Bowl Crime Severity\"\n",
    "FROM crime_severity, crime_dimension, time_dimension, crimes_fact3\n",
    "WHERE time_dimension.date_time BETWEEN '02-01-2015 20:00:00' AND '02-07-2015 20:00:00'\n",
    "AND crimes_fact3.date_time = time_dimension.date_time\n",
    "AND crimes_fact3.crime_key = crime_dimension.crime_key\n",
    "AND crime_severity.severity = crime_dimension.severity;"
   ]
  },
  {
   "cell_type": "code",
   "execution_count": 65,
   "metadata": {
    "collapsed": false
   },
   "outputs": [
    {
     "name": "stdout",
     "output_type": "stream",
     "text": [
      "1 rows affected.\n"
     ]
    },
    {
     "data": {
      "text/html": [
       "<table>\n",
       "    <tr>\n",
       "        <th>Pre Super Bowl Crime Severity</th>\n",
       "    </tr>\n",
       "    <tr>\n",
       "        <td>2.2272423349078175</td>\n",
       "    </tr>\n",
       "</table>"
      ],
      "text/plain": [
       "[(Decimal('2.2272423349078175'),)]"
      ]
     },
     "execution_count": 65,
     "metadata": {},
     "output_type": "execute_result"
    }
   ],
   "source": [
    "%%sql\n",
    "SELECT AVG (crime_severity.severity_num) AS \"Pre Super Bowl Crime Severity\"\n",
    "FROM crime_severity, crime_dimension, time_dimension, crimes_fact3\n",
    "WHERE time_dimension.date_time BETWEEN '01-26-2013 20:00:00' AND '02-01-2013 20:00:00'\n",
    "AND crimes_fact3.date_time = time_dimension.date_time\n",
    "AND crimes_fact3.crime_key = crime_dimension.crime_key\n",
    "AND crime_severity.severity = crime_dimension.severity;"
   ]
  },
  {
   "cell_type": "markdown",
   "metadata": {},
   "source": [
    "An interesting thing to see is that even though there were less crimes committed after the super bowl than the world series, the severity of those crimes were quite a bit higher almost 2.2 compared to 2.0. The pre Super Bowl severity is .03 higher than post super bowl crime severity."
   ]
  },
  {
   "cell_type": "markdown",
   "metadata": {},
   "source": [
    "## Bonus: Augmenting Dimensions"
   ]
  },
  {
   "cell_type": "markdown",
   "metadata": {
    "collapsed": true
   },
   "source": [
    "### Weather's Affect on Crime"
   ]
  },
  {
   "cell_type": "markdown",
   "metadata": {},
   "source": [
    "Weather can have a major impact on crimes committed. We could see that just by the amount of crimes committed in each month; the summer months were much higher than the winter months. "
   ]
  },
  {
   "cell_type": "code",
   "execution_count": null,
   "metadata": {
    "collapsed": true
   },
   "outputs": [],
   "source": []
  }
 ],
 "metadata": {
  "kernelspec": {
   "display_name": "Python 3",
   "language": "python",
   "name": "python3"
  },
  "language_info": {
   "codemirror_mode": {
    "name": "ipython",
    "version": 3
   },
   "file_extension": ".py",
   "mimetype": "text/x-python",
   "name": "python",
   "nbconvert_exporter": "python",
   "pygments_lexer": "ipython3",
   "version": "3.5.2"
  }
 },
 "nbformat": 4,
 "nbformat_minor": 1
}
